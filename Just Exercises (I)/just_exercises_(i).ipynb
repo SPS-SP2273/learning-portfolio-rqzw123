{
 "cells": [
  {
   "cell_type": "markdown",
   "id": "123456",
   "metadata": {},
   "source": [
    "<div style=\"text-align:left;font-size:2em\"><span style=\"font-weight:bolder;font-size:1.25em\">SP2273 | Learning Portfolio</span><br><br><span style=\"font-weight:bold;color:darkred\">Just Exercises (I)</span></div>"
   ]
  },
  {
   "cell_type": "markdown",
   "id": "21e45084",
   "metadata": {},
   "source": [
    "## Exercise 1 :  F-strings to the rescue"
   ]
  },
  {
   "cell_type": "code",
   "execution_count": 2,
   "id": "348e1a87",
   "metadata": {
    "code_folding": []
   },
   "outputs": [
    {
     "name": "stdout",
     "output_type": "stream",
     "text": [
      "00001\n",
      "00002\n",
      "00003\n",
      "00004\n",
      "00005\n",
      "00006\n",
      "00007\n",
      "00008\n",
      "00009\n",
      "00010\n"
     ]
    }
   ],
   "source": [
    "for i in range(1, 11):\n",
    "    print(f\"{i:05}\")"
   ]
  },
  {
   "cell_type": "code",
   "execution_count": 1,
   "id": "22162eba",
   "metadata": {},
   "outputs": [
    {
     "name": "stdout",
     "output_type": "stream",
     "text": [
      "001          +\n",
      "002         ++\n",
      "003        +++\n",
      "004       ++++\n",
      "005      +++++\n",
      "006     ++++++\n",
      "007    +++++++\n",
      "008   ++++++++\n",
      "009  +++++++++\n",
      "010 ++++++++++\n"
     ]
    }
   ],
   "source": [
    "for i in range(1, 11):\n",
    "    spaces = \" \" * (10 - i)\n",
    "    pluses = \"+\" * i\n",
    "    print(f\"{i:03} {spaces}{pluses}\")"
   ]
  },
  {
   "cell_type": "code",
   "execution_count": 2,
   "id": "92c99a11",
   "metadata": {},
   "outputs": [
    {
     "name": "stdout",
     "output_type": "stream",
     "text": [
      "001 -+++++++++\n",
      "002 --++++++++\n",
      "003 ---+++++++\n",
      "004 ----++++++\n",
      "005 -----+++++\n",
      "006 ------++++\n",
      "007 -------+++\n",
      "008 --------++\n",
      "009 ---------+\n",
      "010 ----------\n"
     ]
    }
   ],
   "source": [
    "for i in range(1, 11):\n",
    "    minuses = \"-\" * i\n",
    "    pluses = \"+\" * (10 - i)\n",
    "    print(f\"{i:03} {minuses}{pluses}\")"
   ]
  },
  {
   "cell_type": "code",
   "execution_count": 3,
   "id": "a8e14074",
   "metadata": {},
   "outputs": [
    {
     "name": "stdout",
     "output_type": "stream",
     "text": [
      "['bruce_exploits.txt', 'bruce_enemies.txt', 'bruce_friends.txt', 'natasha_exploits.txt', 'natasha_enemies.txt', 'natasha_friends.txt', 'tony_exploits.txt', 'tony_enemies.txt', 'tony_friends.txt']\n"
     ]
    }
   ],
   "source": [
    "names = [\"bruce\", \"natasha\", \"tony\"]\n",
    "txt_file = [\"_exploits.txt\", \"_enemies.txt\", \"_friends.txt\"]\n",
    "avengers_list = []\n",
    "\n",
    "for i in names:\n",
    "    for n in txt_file:\n",
    "        avengers_list.append(f\"{i}{n}\")\n",
    "print(avengers_list)                        "
   ]
  },
  {
   "cell_type": "code",
   "execution_count": 10,
   "id": "9145d165",
   "metadata": {},
   "outputs": [
    {
     "name": "stdout",
     "output_type": "stream",
     "text": [
      "['data_sg_exp-1_trial-001.txt', 'data_sg_exp-1_trial-002.txt', 'data_sg_exp-1_trial-003.txt', 'data_sg_exp-1_trial-004.txt', 'data_sg_exp-1_trial-005.txt', 'data_sg_exp-1_trial-006.txt', 'data_sg_exp-1_trial-007.txt', 'data_sg_exp-1_trial-008.txt', 'data_sg_exp-1_trial-009.txt', 'data_sg_exp-1_trial-010.txt', 'data_sg_exp-1_trial-011.txt', 'data_sg_exp-1_trial-012.txt', 'data_sg_exp-1_trial-013.txt', 'data_sg_exp-1_trial-014.txt', 'data_sg_exp-1_trial-015.txt', 'data_sg_exp-1_trial-016.txt', 'data_sg_exp-1_trial-017.txt', 'data_sg_exp-1_trial-018.txt', 'data_sg_exp-1_trial-019.txt', 'data_sg_exp-1_trial-020.txt', 'data_sg_exp-1_trial-021.txt', 'data_sg_exp-1_trial-022.txt', 'data_sg_exp-1_trial-023.txt', 'data_sg_exp-1_trial-024.txt', 'data_sg_exp-1_trial-025.txt', 'data_sg_exp-1_trial-026.txt', 'data_sg_exp-1_trial-027.txt', 'data_sg_exp-1_trial-028.txt', 'data_sg_exp-1_trial-029.txt', 'data_sg_exp-1_trial-030.txt', 'data_sg_exp-1_trial-031.txt', 'data_sg_exp-1_trial-032.txt', 'data_sg_exp-1_trial-033.txt', 'data_sg_exp-1_trial-034.txt', 'data_sg_exp-1_trial-035.txt', 'data_sg_exp-1_trial-036.txt', 'data_sg_exp-1_trial-037.txt', 'data_sg_exp-1_trial-038.txt', 'data_sg_exp-1_trial-039.txt', 'data_sg_exp-1_trial-040.txt', 'data_sg_exp-1_trial-041.txt', 'data_sg_exp-1_trial-042.txt', 'data_sg_exp-1_trial-043.txt', 'data_sg_exp-1_trial-044.txt', 'data_sg_exp-1_trial-045.txt', 'data_sg_exp-1_trial-046.txt', 'data_sg_exp-1_trial-047.txt', 'data_sg_exp-1_trial-048.txt', 'data_sg_exp-1_trial-049.txt', 'data_sg_exp-1_trial-050.txt', 'data_sg_exp-2_trial-001.txt', 'data_sg_exp-2_trial-002.txt', 'data_sg_exp-2_trial-003.txt', 'data_sg_exp-2_trial-004.txt', 'data_sg_exp-2_trial-005.txt', 'data_sg_exp-2_trial-006.txt', 'data_sg_exp-2_trial-007.txt', 'data_sg_exp-2_trial-008.txt', 'data_sg_exp-2_trial-009.txt', 'data_sg_exp-2_trial-010.txt', 'data_sg_exp-2_trial-011.txt', 'data_sg_exp-2_trial-012.txt', 'data_sg_exp-2_trial-013.txt', 'data_sg_exp-2_trial-014.txt', 'data_sg_exp-2_trial-015.txt', 'data_sg_exp-2_trial-016.txt', 'data_sg_exp-2_trial-017.txt', 'data_sg_exp-2_trial-018.txt', 'data_sg_exp-2_trial-019.txt', 'data_sg_exp-2_trial-020.txt', 'data_sg_exp-2_trial-021.txt', 'data_sg_exp-2_trial-022.txt', 'data_sg_exp-2_trial-023.txt', 'data_sg_exp-2_trial-024.txt', 'data_sg_exp-2_trial-025.txt', 'data_sg_exp-2_trial-026.txt', 'data_sg_exp-2_trial-027.txt', 'data_sg_exp-2_trial-028.txt', 'data_sg_exp-2_trial-029.txt', 'data_sg_exp-2_trial-030.txt', 'data_sg_exp-2_trial-031.txt', 'data_sg_exp-2_trial-032.txt', 'data_sg_exp-2_trial-033.txt', 'data_sg_exp-2_trial-034.txt', 'data_sg_exp-2_trial-035.txt', 'data_sg_exp-2_trial-036.txt', 'data_sg_exp-2_trial-037.txt', 'data_sg_exp-2_trial-038.txt', 'data_sg_exp-2_trial-039.txt', 'data_sg_exp-2_trial-040.txt', 'data_sg_exp-2_trial-041.txt', 'data_sg_exp-2_trial-042.txt', 'data_sg_exp-2_trial-043.txt', 'data_sg_exp-2_trial-044.txt', 'data_sg_exp-2_trial-045.txt', 'data_sg_exp-2_trial-046.txt', 'data_sg_exp-2_trial-047.txt', 'data_sg_exp-2_trial-048.txt', 'data_sg_exp-2_trial-049.txt', 'data_sg_exp-2_trial-050.txt', 'data_sg_exp-3_trial-001.txt', 'data_sg_exp-3_trial-002.txt', 'data_sg_exp-3_trial-003.txt', 'data_sg_exp-3_trial-004.txt', 'data_sg_exp-3_trial-005.txt', 'data_sg_exp-3_trial-006.txt', 'data_sg_exp-3_trial-007.txt', 'data_sg_exp-3_trial-008.txt', 'data_sg_exp-3_trial-009.txt', 'data_sg_exp-3_trial-010.txt', 'data_sg_exp-3_trial-011.txt', 'data_sg_exp-3_trial-012.txt', 'data_sg_exp-3_trial-013.txt', 'data_sg_exp-3_trial-014.txt', 'data_sg_exp-3_trial-015.txt', 'data_sg_exp-3_trial-016.txt', 'data_sg_exp-3_trial-017.txt', 'data_sg_exp-3_trial-018.txt', 'data_sg_exp-3_trial-019.txt', 'data_sg_exp-3_trial-020.txt', 'data_sg_exp-3_trial-021.txt', 'data_sg_exp-3_trial-022.txt', 'data_sg_exp-3_trial-023.txt', 'data_sg_exp-3_trial-024.txt', 'data_sg_exp-3_trial-025.txt', 'data_sg_exp-3_trial-026.txt', 'data_sg_exp-3_trial-027.txt', 'data_sg_exp-3_trial-028.txt', 'data_sg_exp-3_trial-029.txt', 'data_sg_exp-3_trial-030.txt', 'data_sg_exp-3_trial-031.txt', 'data_sg_exp-3_trial-032.txt', 'data_sg_exp-3_trial-033.txt', 'data_sg_exp-3_trial-034.txt', 'data_sg_exp-3_trial-035.txt', 'data_sg_exp-3_trial-036.txt', 'data_sg_exp-3_trial-037.txt', 'data_sg_exp-3_trial-038.txt', 'data_sg_exp-3_trial-039.txt', 'data_sg_exp-3_trial-040.txt', 'data_sg_exp-3_trial-041.txt', 'data_sg_exp-3_trial-042.txt', 'data_sg_exp-3_trial-043.txt', 'data_sg_exp-3_trial-044.txt', 'data_sg_exp-3_trial-045.txt', 'data_sg_exp-3_trial-046.txt', 'data_sg_exp-3_trial-047.txt', 'data_sg_exp-3_trial-048.txt', 'data_sg_exp-3_trial-049.txt', 'data_sg_exp-3_trial-050.txt', 'data_gb_exp-1_trial-001.txt', 'data_gb_exp-1_trial-002.txt', 'data_gb_exp-1_trial-003.txt', 'data_gb_exp-1_trial-004.txt', 'data_gb_exp-1_trial-005.txt', 'data_gb_exp-1_trial-006.txt', 'data_gb_exp-1_trial-007.txt', 'data_gb_exp-1_trial-008.txt', 'data_gb_exp-1_trial-009.txt', 'data_gb_exp-1_trial-010.txt', 'data_gb_exp-1_trial-011.txt', 'data_gb_exp-1_trial-012.txt', 'data_gb_exp-1_trial-013.txt', 'data_gb_exp-1_trial-014.txt', 'data_gb_exp-1_trial-015.txt', 'data_gb_exp-1_trial-016.txt', 'data_gb_exp-1_trial-017.txt', 'data_gb_exp-1_trial-018.txt', 'data_gb_exp-1_trial-019.txt', 'data_gb_exp-1_trial-020.txt', 'data_gb_exp-1_trial-021.txt', 'data_gb_exp-1_trial-022.txt', 'data_gb_exp-1_trial-023.txt', 'data_gb_exp-1_trial-024.txt', 'data_gb_exp-1_trial-025.txt', 'data_gb_exp-1_trial-026.txt', 'data_gb_exp-1_trial-027.txt', 'data_gb_exp-1_trial-028.txt', 'data_gb_exp-1_trial-029.txt', 'data_gb_exp-1_trial-030.txt', 'data_gb_exp-1_trial-031.txt', 'data_gb_exp-1_trial-032.txt', 'data_gb_exp-1_trial-033.txt', 'data_gb_exp-1_trial-034.txt', 'data_gb_exp-1_trial-035.txt', 'data_gb_exp-1_trial-036.txt', 'data_gb_exp-1_trial-037.txt', 'data_gb_exp-1_trial-038.txt', 'data_gb_exp-1_trial-039.txt', 'data_gb_exp-1_trial-040.txt', 'data_gb_exp-1_trial-041.txt', 'data_gb_exp-1_trial-042.txt', 'data_gb_exp-1_trial-043.txt', 'data_gb_exp-1_trial-044.txt', 'data_gb_exp-1_trial-045.txt', 'data_gb_exp-1_trial-046.txt', 'data_gb_exp-1_trial-047.txt', 'data_gb_exp-1_trial-048.txt', 'data_gb_exp-1_trial-049.txt', 'data_gb_exp-1_trial-050.txt', 'data_gb_exp-2_trial-001.txt', 'data_gb_exp-2_trial-002.txt', 'data_gb_exp-2_trial-003.txt', 'data_gb_exp-2_trial-004.txt', 'data_gb_exp-2_trial-005.txt', 'data_gb_exp-2_trial-006.txt', 'data_gb_exp-2_trial-007.txt', 'data_gb_exp-2_trial-008.txt', 'data_gb_exp-2_trial-009.txt', 'data_gb_exp-2_trial-010.txt', 'data_gb_exp-2_trial-011.txt', 'data_gb_exp-2_trial-012.txt', 'data_gb_exp-2_trial-013.txt', 'data_gb_exp-2_trial-014.txt', 'data_gb_exp-2_trial-015.txt', 'data_gb_exp-2_trial-016.txt', 'data_gb_exp-2_trial-017.txt', 'data_gb_exp-2_trial-018.txt', 'data_gb_exp-2_trial-019.txt', 'data_gb_exp-2_trial-020.txt', 'data_gb_exp-2_trial-021.txt', 'data_gb_exp-2_trial-022.txt', 'data_gb_exp-2_trial-023.txt', 'data_gb_exp-2_trial-024.txt', 'data_gb_exp-2_trial-025.txt', 'data_gb_exp-2_trial-026.txt', 'data_gb_exp-2_trial-027.txt', 'data_gb_exp-2_trial-028.txt', 'data_gb_exp-2_trial-029.txt', 'data_gb_exp-2_trial-030.txt', 'data_gb_exp-2_trial-031.txt', 'data_gb_exp-2_trial-032.txt', 'data_gb_exp-2_trial-033.txt', 'data_gb_exp-2_trial-034.txt', 'data_gb_exp-2_trial-035.txt', 'data_gb_exp-2_trial-036.txt', 'data_gb_exp-2_trial-037.txt', 'data_gb_exp-2_trial-038.txt', 'data_gb_exp-2_trial-039.txt', 'data_gb_exp-2_trial-040.txt', 'data_gb_exp-2_trial-041.txt', 'data_gb_exp-2_trial-042.txt', 'data_gb_exp-2_trial-043.txt', 'data_gb_exp-2_trial-044.txt', 'data_gb_exp-2_trial-045.txt', 'data_gb_exp-2_trial-046.txt', 'data_gb_exp-2_trial-047.txt', 'data_gb_exp-2_trial-048.txt', 'data_gb_exp-2_trial-049.txt', 'data_gb_exp-2_trial-050.txt', 'data_gb_exp-3_trial-001.txt', 'data_gb_exp-3_trial-002.txt', 'data_gb_exp-3_trial-003.txt', 'data_gb_exp-3_trial-004.txt', 'data_gb_exp-3_trial-005.txt', 'data_gb_exp-3_trial-006.txt', 'data_gb_exp-3_trial-007.txt', 'data_gb_exp-3_trial-008.txt', 'data_gb_exp-3_trial-009.txt', 'data_gb_exp-3_trial-010.txt', 'data_gb_exp-3_trial-011.txt', 'data_gb_exp-3_trial-012.txt', 'data_gb_exp-3_trial-013.txt', 'data_gb_exp-3_trial-014.txt', 'data_gb_exp-3_trial-015.txt', 'data_gb_exp-3_trial-016.txt', 'data_gb_exp-3_trial-017.txt', 'data_gb_exp-3_trial-018.txt', 'data_gb_exp-3_trial-019.txt', 'data_gb_exp-3_trial-020.txt', 'data_gb_exp-3_trial-021.txt', 'data_gb_exp-3_trial-022.txt', 'data_gb_exp-3_trial-023.txt', 'data_gb_exp-3_trial-024.txt', 'data_gb_exp-3_trial-025.txt', 'data_gb_exp-3_trial-026.txt', 'data_gb_exp-3_trial-027.txt', 'data_gb_exp-3_trial-028.txt', 'data_gb_exp-3_trial-029.txt', 'data_gb_exp-3_trial-030.txt', 'data_gb_exp-3_trial-031.txt', 'data_gb_exp-3_trial-032.txt', 'data_gb_exp-3_trial-033.txt', 'data_gb_exp-3_trial-034.txt', 'data_gb_exp-3_trial-035.txt', 'data_gb_exp-3_trial-036.txt', 'data_gb_exp-3_trial-037.txt', 'data_gb_exp-3_trial-038.txt', 'data_gb_exp-3_trial-039.txt', 'data_gb_exp-3_trial-040.txt', 'data_gb_exp-3_trial-041.txt', 'data_gb_exp-3_trial-042.txt', 'data_gb_exp-3_trial-043.txt', 'data_gb_exp-3_trial-044.txt', 'data_gb_exp-3_trial-045.txt', 'data_gb_exp-3_trial-046.txt', 'data_gb_exp-3_trial-047.txt', 'data_gb_exp-3_trial-048.txt', 'data_gb_exp-3_trial-049.txt', 'data_gb_exp-3_trial-050.txt', 'data_us_exp-1_trial-001.txt', 'data_us_exp-1_trial-002.txt', 'data_us_exp-1_trial-003.txt', 'data_us_exp-1_trial-004.txt', 'data_us_exp-1_trial-005.txt', 'data_us_exp-1_trial-006.txt', 'data_us_exp-1_trial-007.txt', 'data_us_exp-1_trial-008.txt', 'data_us_exp-1_trial-009.txt', 'data_us_exp-1_trial-010.txt', 'data_us_exp-1_trial-011.txt', 'data_us_exp-1_trial-012.txt', 'data_us_exp-1_trial-013.txt', 'data_us_exp-1_trial-014.txt', 'data_us_exp-1_trial-015.txt', 'data_us_exp-1_trial-016.txt', 'data_us_exp-1_trial-017.txt', 'data_us_exp-1_trial-018.txt', 'data_us_exp-1_trial-019.txt', 'data_us_exp-1_trial-020.txt', 'data_us_exp-1_trial-021.txt', 'data_us_exp-1_trial-022.txt', 'data_us_exp-1_trial-023.txt', 'data_us_exp-1_trial-024.txt', 'data_us_exp-1_trial-025.txt', 'data_us_exp-1_trial-026.txt', 'data_us_exp-1_trial-027.txt', 'data_us_exp-1_trial-028.txt', 'data_us_exp-1_trial-029.txt', 'data_us_exp-1_trial-030.txt', 'data_us_exp-1_trial-031.txt', 'data_us_exp-1_trial-032.txt', 'data_us_exp-1_trial-033.txt', 'data_us_exp-1_trial-034.txt', 'data_us_exp-1_trial-035.txt', 'data_us_exp-1_trial-036.txt', 'data_us_exp-1_trial-037.txt', 'data_us_exp-1_trial-038.txt', 'data_us_exp-1_trial-039.txt', 'data_us_exp-1_trial-040.txt', 'data_us_exp-1_trial-041.txt', 'data_us_exp-1_trial-042.txt', 'data_us_exp-1_trial-043.txt', 'data_us_exp-1_trial-044.txt', 'data_us_exp-1_trial-045.txt', 'data_us_exp-1_trial-046.txt', 'data_us_exp-1_trial-047.txt', 'data_us_exp-1_trial-048.txt', 'data_us_exp-1_trial-049.txt', 'data_us_exp-1_trial-050.txt', 'data_us_exp-2_trial-001.txt', 'data_us_exp-2_trial-002.txt', 'data_us_exp-2_trial-003.txt', 'data_us_exp-2_trial-004.txt', 'data_us_exp-2_trial-005.txt', 'data_us_exp-2_trial-006.txt', 'data_us_exp-2_trial-007.txt', 'data_us_exp-2_trial-008.txt', 'data_us_exp-2_trial-009.txt', 'data_us_exp-2_trial-010.txt', 'data_us_exp-2_trial-011.txt', 'data_us_exp-2_trial-012.txt', 'data_us_exp-2_trial-013.txt', 'data_us_exp-2_trial-014.txt', 'data_us_exp-2_trial-015.txt', 'data_us_exp-2_trial-016.txt', 'data_us_exp-2_trial-017.txt', 'data_us_exp-2_trial-018.txt', 'data_us_exp-2_trial-019.txt', 'data_us_exp-2_trial-020.txt', 'data_us_exp-2_trial-021.txt', 'data_us_exp-2_trial-022.txt', 'data_us_exp-2_trial-023.txt', 'data_us_exp-2_trial-024.txt', 'data_us_exp-2_trial-025.txt', 'data_us_exp-2_trial-026.txt', 'data_us_exp-2_trial-027.txt', 'data_us_exp-2_trial-028.txt', 'data_us_exp-2_trial-029.txt', 'data_us_exp-2_trial-030.txt', 'data_us_exp-2_trial-031.txt', 'data_us_exp-2_trial-032.txt', 'data_us_exp-2_trial-033.txt', 'data_us_exp-2_trial-034.txt', 'data_us_exp-2_trial-035.txt', 'data_us_exp-2_trial-036.txt', 'data_us_exp-2_trial-037.txt', 'data_us_exp-2_trial-038.txt', 'data_us_exp-2_trial-039.txt', 'data_us_exp-2_trial-040.txt', 'data_us_exp-2_trial-041.txt', 'data_us_exp-2_trial-042.txt', 'data_us_exp-2_trial-043.txt', 'data_us_exp-2_trial-044.txt', 'data_us_exp-2_trial-045.txt', 'data_us_exp-2_trial-046.txt', 'data_us_exp-2_trial-047.txt', 'data_us_exp-2_trial-048.txt', 'data_us_exp-2_trial-049.txt', 'data_us_exp-2_trial-050.txt', 'data_us_exp-3_trial-001.txt', 'data_us_exp-3_trial-002.txt', 'data_us_exp-3_trial-003.txt', 'data_us_exp-3_trial-004.txt', 'data_us_exp-3_trial-005.txt', 'data_us_exp-3_trial-006.txt', 'data_us_exp-3_trial-007.txt', 'data_us_exp-3_trial-008.txt', 'data_us_exp-3_trial-009.txt', 'data_us_exp-3_trial-010.txt', 'data_us_exp-3_trial-011.txt', 'data_us_exp-3_trial-012.txt', 'data_us_exp-3_trial-013.txt', 'data_us_exp-3_trial-014.txt', 'data_us_exp-3_trial-015.txt', 'data_us_exp-3_trial-016.txt', 'data_us_exp-3_trial-017.txt', 'data_us_exp-3_trial-018.txt', 'data_us_exp-3_trial-019.txt', 'data_us_exp-3_trial-020.txt', 'data_us_exp-3_trial-021.txt', 'data_us_exp-3_trial-022.txt', 'data_us_exp-3_trial-023.txt', 'data_us_exp-3_trial-024.txt', 'data_us_exp-3_trial-025.txt', 'data_us_exp-3_trial-026.txt', 'data_us_exp-3_trial-027.txt', 'data_us_exp-3_trial-028.txt', 'data_us_exp-3_trial-029.txt', 'data_us_exp-3_trial-030.txt', 'data_us_exp-3_trial-031.txt', 'data_us_exp-3_trial-032.txt', 'data_us_exp-3_trial-033.txt', 'data_us_exp-3_trial-034.txt', 'data_us_exp-3_trial-035.txt', 'data_us_exp-3_trial-036.txt', 'data_us_exp-3_trial-037.txt', 'data_us_exp-3_trial-038.txt', 'data_us_exp-3_trial-039.txt', 'data_us_exp-3_trial-040.txt', 'data_us_exp-3_trial-041.txt', 'data_us_exp-3_trial-042.txt', 'data_us_exp-3_trial-043.txt', 'data_us_exp-3_trial-044.txt', 'data_us_exp-3_trial-045.txt', 'data_us_exp-3_trial-046.txt', 'data_us_exp-3_trial-047.txt', 'data_us_exp-3_trial-048.txt', 'data_us_exp-3_trial-049.txt', 'data_us_exp-3_trial-050.txt']\n"
     ]
    }
   ],
   "source": [
    "countries = [\"sg\", \"gb\", \"us\"]\n",
    "experiments = [1, 2, 3]\n",
    "data_list = []\n",
    "for i in countries:\n",
    "    for e in experiments:\n",
    "            for t in range(1, 51):\n",
    "                data_list.append(f\"data_{i}_exp-{e}_trial-{t:03}.txt\")\n",
    "print(data_list)"
   ]
  },
  {
   "cell_type": "markdown",
   "id": "987c6294",
   "metadata": {},
   "source": [
    "## Exercise 2 :  Tutti frutti"
   ]
  },
  {
   "cell_type": "code",
   "execution_count": 124,
   "id": "548e1bcd",
   "metadata": {},
   "outputs": [
    {
     "name": "stdout",
     "output_type": "stream",
     "text": [
      "True\n"
     ]
    }
   ],
   "source": [
    "fruits = [\"apple\", \"banana\", \"pineapple\", \"jackfruit\",\n",
    "        \"peach\", \"durian\", \"watermelon\", \"mango\",\n",
    "        \"strawberry\", \"passionfruit\"]\n",
    "\n",
    "print(\"mango\" in fruits) "
   ]
  },
  {
   "cell_type": "code",
   "execution_count": 3,
   "id": "31a6240b",
   "metadata": {},
   "outputs": [
    {
     "name": "stdout",
     "output_type": "stream",
     "text": [
      "a e\n",
      "b a\n",
      "p e\n",
      "j t\n",
      "p h\n",
      "d n\n",
      "w n\n",
      "m o\n",
      "s y\n",
      "p t\n"
     ]
    }
   ],
   "source": [
    "fruits = [\"apple\", \"banana\", \"pineapple\", \"jackfruit\",\n",
    "        \"peach\", \"durian\", \"watermelon\", \"mango\",\n",
    "        \"strawberry\", \"passionfruit\"]\n",
    "\n",
    "for i in fruits:\n",
    "    print(i[0], i[-1])"
   ]
  },
  {
   "cell_type": "code",
   "execution_count": 48,
   "id": "6be3c881",
   "metadata": {},
   "outputs": [
    {
     "name": "stdout",
     "output_type": "stream",
     "text": [
      "apple\n",
      "banana\n",
      "PINEAPPLE\n",
      "jackfruit\n",
      "PEACH\n",
      "durian\n",
      "watermelon\n",
      "mango\n",
      "strawberry\n",
      "PASSIONFRUIT\n"
     ]
    }
   ],
   "source": [
    "for i in fruits:\n",
    "    if i[0] == \"p\":\n",
    "        print(i.upper())\n",
    "    else:\n",
    "        print(i)"
   ]
  },
  {
   "cell_type": "code",
   "execution_count": 4,
   "id": "f6a4a01c",
   "metadata": {},
   "outputs": [
    {
     "name": "stdout",
     "output_type": "stream",
     "text": [
      "['apple', 'banana', 'pineapple', 'jackfruit', 'peach', 'durian', 'watermelon', 'mango', 'strawberry', 'passionfruit', 'dragon fruit', 'apricots', 'oranges']\n"
     ]
    }
   ],
   "source": [
    "fruits = [\"apple\", \"banana\", \"pineapple\", \"jackfruit\",\n",
    "        \"peach\", \"durian\", \"watermelon\", \"mango\",\n",
    "        \"strawberry\", \"passionfruit\"]\n",
    "\n",
    "additionals = [\"dragon fruit\", \"apricots\", \"oranges\"]\n",
    "fruits += additionals\n",
    "print(fruits)"
   ]
  },
  {
   "cell_type": "code",
   "execution_count": 5,
   "id": "919a215d",
   "metadata": {},
   "outputs": [
    {
     "name": "stdout",
     "output_type": "stream",
     "text": [
      "['dragon fruit', 'apricots', 'oranges', 'apple', 'banana', 'pineapple', 'jackfruit', 'peach', 'durian', 'watermelon', 'mango', 'strawberry', 'passionfruit']\n"
     ]
    }
   ],
   "source": [
    "fruits = [\"apple\", \"banana\", \"pineapple\", \"jackfruit\",\n",
    "        \"peach\", \"durian\", \"watermelon\", \"mango\",\n",
    "        \"strawberry\", \"passionfruit\"]\n",
    "\n",
    "prepend = [\"dragon fruit\", \"apricots\", \"oranges\"]\n",
    "fruits = prepend + fruits\n",
    "print(fruits)"
   ]
  },
  {
   "cell_type": "code",
   "execution_count": 129,
   "id": "84c52304",
   "metadata": {},
   "outputs": [
    {
     "name": "stdout",
     "output_type": "stream",
     "text": [
      "['apple', 'banana', 'pineapple', 'jackfruit', 'peach', 'dragon fruit', 'apricots', 'oranges', 'durian', 'watermelon', 'mango', 'strawberry', 'passionfruit']\n"
     ]
    }
   ],
   "source": [
    "fruits = [\"apple\", \"banana\", \"pineapple\", \"jackfruit\",\n",
    "        \"peach\", \"durian\", \"watermelon\", \"mango\",\n",
    "        \"strawberry\", \"passionfruit\"]\n",
    "\n",
    "additionals = [\"dragon fruit\", \"apricots\", \"oranges\"]\n",
    "fruits = fruits[0:5] + additionals + fruits[5:10]\n",
    "print(fruits)"
   ]
  },
  {
   "cell_type": "code",
   "execution_count": 128,
   "id": "3e7ca8ed",
   "metadata": {},
   "outputs": [
    {
     "name": "stdout",
     "output_type": "stream",
     "text": [
      "['pineapple', 'jackfruit', 'watermelon', 'strawberry', 'passionfruit']\n"
     ]
    }
   ],
   "source": [
    "fruits = [\"apple\", \"banana\", \"pineapple\", \"jackfruit\",\n",
    "        \"peach\", \"durian\", \"watermelon\", \"mango\",\n",
    "        \"strawberry\", \"passionfruit\"]\n",
    "\n",
    "print([new_fruits for new_fruits in fruits if len(new_fruits) > 8])"
   ]
  },
  {
   "cell_type": "markdown",
   "id": "39b28f9d",
   "metadata": {},
   "source": [
    "## Exercise 3 :  Ciao Fibonacci"
   ]
  },
  {
   "cell_type": "code",
   "execution_count": 130,
   "id": "53a57667",
   "metadata": {},
   "outputs": [
    {
     "name": "stdout",
     "output_type": "stream",
     "text": [
      "[0, 1, 1, 2, 3, 5, 8, 13, 21, 34, 55, 89, 144, 233, 377]\n"
     ]
    }
   ],
   "source": [
    "fibonacci = [0, 1]\n",
    "\n",
    "for i in range(13):\n",
    "    fibonacci.append(fibonacci[i] + fibonacci[i + 1])\n",
    "print(fibonacci)"
   ]
  },
  {
   "cell_type": "markdown",
   "id": "ea9cda96",
   "metadata": {},
   "source": [
    "## Exercise 4 :  A function for Fibonacci"
   ]
  },
  {
   "cell_type": "code",
   "execution_count": 132,
   "id": "4c9873aa",
   "metadata": {},
   "outputs": [
    {
     "name": "stdout",
     "output_type": "stream",
     "text": [
      "2\n"
     ]
    }
   ],
   "source": [
    "def fibonacci(n):\n",
    "    if n == 0:\n",
    "        return 0\n",
    "    elif n == 1:\n",
    "        return 1\n",
    "    else:\n",
    "        return fibonacci(n - 2) + fibonacci(n - 1)\n",
    "    \n",
    "print(fibonacci(3))"
   ]
  },
  {
   "cell_type": "code",
   "execution_count": 25,
   "id": "568a58fa",
   "metadata": {},
   "outputs": [
    {
     "name": "stdout",
     "output_type": "stream",
     "text": [
      "[0, 1, 1, 2, 3, 5, 8, 13, 21, 34, 55, 89, 144, 233, 377, 610, 987, 1597, 2584, 4181, 6765]\n"
     ]
    }
   ],
   "source": [
    "# Updated iterative solution. \n",
    "def fibonacci(n):\n",
    "    a, b = 0, 1\n",
    "    fib_seq = [0, 1]\n",
    "    if n <= 2:\n",
    "        return fib_seq[:n]\n",
    "    for i in range(n - 2):\n",
    "        fib_no = a + b\n",
    "        fib_seq.append(fib_no)\n",
    "        a = b\n",
    "        b = fib_no\n",
    "    return fib_seq\n",
    "\n",
    "print(fibonacci(21))        "
   ]
  },
  {
   "cell_type": "markdown",
   "id": "42c91c1a",
   "metadata": {},
   "source": [
    "## Exercise 5 :  max_info() without NumPy"
   ]
  },
  {
   "cell_type": "code",
   "execution_count": 131,
   "id": "f91fe312",
   "metadata": {},
   "outputs": [
    {
     "name": "stdout",
     "output_type": "stream",
     "text": [
      "[83, 2]\n"
     ]
    }
   ],
   "source": [
    "def max_info(numbers):\n",
    "    my_max = numbers[0]\n",
    "    for i in numbers:\n",
    "        if my_max > i:\n",
    "            my_max = my_max\n",
    "        elif i > my_max:\n",
    "            my_max = i \n",
    "    my_max_index = numbers.index(my_max)\n",
    "    return [my_max, my_max_index]\n",
    "\n",
    "numbers = [40, 27, 83, 44, 74, 51, 76, 77, 10, 49]\n",
    "print(max_info(numbers))"
   ]
  },
  {
   "cell_type": "markdown",
   "id": "dfd1a9f5",
   "metadata": {},
   "source": [
    "## Exercise 6 :  Take count"
   ]
  },
  {
   "cell_type": "code",
   "execution_count": 147,
   "id": "988edd58",
   "metadata": {},
   "outputs": [
    {
     "name": "stdout",
     "output_type": "stream",
     "text": [
      "254\n"
     ]
    }
   ],
   "source": [
    "DNA = \"AGGCAAGAAGCTAGAATTCTGGCCTGAGTATCTCAGTACAGGCGCAGTCGAATCTTCCGGAATCACATTGCTCGCGCTTAAACCCGCTCTAAACCTTTGAGTAATTCGACGACATTGGGTTCCCTCCGACGCTGTCTGACAACTCTTTAAGATCCTTGGCACGATGTCGATAGACATTGTCCCTGATGACGCCTCACAAGGTAACCTGGCTCTAGTAGGGTGGTCTTTGCTGCGGAACTTACCACCTGGTGGATCCAAGCACCAGAGGAGTTCGAAGAGGCTGGGGTACCCCCTATTTAGGAAGGGCGAGACTACGGTCACAAATTCCAAATGGCTTCCCTCGATTCATGACGCCAGAATGCCTGGCTGTGCCAATTTGTCGCCTTGCGTCGTTCTGTCAATCTTTACTCGTGTCGTGTTGTGATAAATGACAAACCCTGCACAACGTAGGGCTCACACAAGGGAATCTAGAGTATCCGATACAGGGAGCTTTAGCTTCCGTCCCTTATAGCCTGCCATATTCTTGCGGTAGCACGAGCCTCAGATCTTCTCACTCCGGAAATGGGAGCTTCGACGGTCAAGGGCTAAGACGTCTTCGGGAGAAATACCTAGGCGATGACCCTGAGTGGTTTTCCGCGTATAACTCATCCTGGTTGCAAATGATTACCGTTATAGCCTGGGGATATGCCTCAATTCCGAACCCAGGAGCATCACTCGAGCAATAGCGGTAAAGGAGGCTATTAGCAAAATTGTCACGATAAGCGCCGTTGTAGTGAAATTAAGATACATACATCGTTTAGCACATCACTCTCACGGCGTCTAGAAGCTGATCTTCATATGCTGACTCAGAAGGCTCGGATAATAGAGGACGAAGGTAGTTTACTCATCGCTGCCCCGACTATTACGTGTGCATGATAAAGTCTGACCCTGACGTTCCCAAGCCGAGGCAGAGGGGTTTTACGCTGAATGTCCGCTCTCTGTCGGATGATTTCGGAAGCTG\"\n",
    "sorted(DNA) #1\n",
    "sum_T = 0\n",
    "for i in DNA:\n",
    "    if i == \"T\":\n",
    "        sum_T += 1\n",
    "print(sum_T)"
   ]
  },
  {
   "cell_type": "code",
   "execution_count": 72,
   "id": "3a22b867",
   "metadata": {},
   "outputs": [
    {
     "name": "stdout",
     "output_type": "stream",
     "text": [
      "254\n"
     ]
    }
   ],
   "source": [
    "list_T = [number for number in DNA if number == \"T\"]\n",
    "result = 0\n",
    "for i in list_T:\n",
    "    result += 1\n",
    "print(result) #Result is also 254.\n",
    "    "
   ]
  },
  {
   "cell_type": "code",
   "execution_count": 81,
   "id": "58c94ef6",
   "metadata": {},
   "outputs": [
    {
     "name": "stdout",
     "output_type": "stream",
     "text": [
      "{'A': 247, 'T': 254, 'C': 250, 'G': 249}\n"
     ]
    }
   ],
   "source": [
    "no_A, no_T, no_C, no_G = 0, 0, 0, 0\n",
    "for i in DNA:\n",
    "    if i == \"A\":\n",
    "        no_A += 1\n",
    "    elif i == \"T\":\n",
    "        no_T += 1\n",
    "    elif i == \"C\":\n",
    "        no_C += 1\n",
    "    else:\n",
    "        no_G += 1\n",
    "\n",
    "DNA_dictionary = {\"A\": no_A,\n",
    "                  \"T\": no_T,\n",
    "                  \"C\": no_C,\n",
    "                  \"G\": no_G}\n",
    "print(DNA_dictionary)"
   ]
  },
  {
   "cell_type": "code",
   "execution_count": 146,
   "id": "f993b058",
   "metadata": {},
   "outputs": [
    {
     "name": "stdout",
     "output_type": "stream",
     "text": [
      "['A' 'C' 'G' 'T'] [247 250 249 254]\n"
     ]
    }
   ],
   "source": [
    "DNA = np.array(sorted(\"AGGCAAGAAGCTAGAATTCTGGCCTGAGTATCTCAGTACAGGCGCAGTCGAATCTTCCGGAATCACATTGCTCGCGCTTAAACCCGCTCTAAACCTTTGAGTAATTCGACGACATTGGGTTCCCTCCGACGCTGTCTGACAACTCTTTAAGATCCTTGGCACGATGTCGATAGACATTGTCCCTGATGACGCCTCACAAGGTAACCTGGCTCTAGTAGGGTGGTCTTTGCTGCGGAACTTACCACCTGGTGGATCCAAGCACCAGAGGAGTTCGAAGAGGCTGGGGTACCCCCTATTTAGGAAGGGCGAGACTACGGTCACAAATTCCAAATGGCTTCCCTCGATTCATGACGCCAGAATGCCTGGCTGTGCCAATTTGTCGCCTTGCGTCGTTCTGTCAATCTTTACTCGTGTCGTGTTGTGATAAATGACAAACCCTGCACAACGTAGGGCTCACACAAGGGAATCTAGAGTATCCGATACAGGGAGCTTTAGCTTCCGTCCCTTATAGCCTGCCATATTCTTGCGGTAGCACGAGCCTCAGATCTTCTCACTCCGGAAATGGGAGCTTCGACGGTCAAGGGCTAAGACGTCTTCGGGAGAAATACCTAGGCGATGACCCTGAGTGGTTTTCCGCGTATAACTCATCCTGGTTGCAAATGATTACCGTTATAGCCTGGGGATATGCCTCAATTCCGAACCCAGGAGCATCACTCGAGCAATAGCGGTAAAGGAGGCTATTAGCAAAATTGTCACGATAAGCGCCGTTGTAGTGAAATTAAGATACATACATCGTTTAGCACATCACTCTCACGGCGTCTAGAAGCTGATCTTCATATGCTGACTCAGAAGGCTCGGATAATAGAGGACGAAGGTAGTTTACTCATCGCTGCCCCGACTATTACGTGTGCATGATAAAGTCTGACCCTGACGTTCCCAAGCCGAGGCAGAGGGGTTTTACGCTGAATGTCCGCTCTCTGTCGGATGATTTCGGAAGCTG\"))\n",
    "unique_values, value_count = np.unique(DNA, return_counts = True)\n",
    "print(unique_values, value_count)"
   ]
  },
  {
   "cell_type": "code",
   "execution_count": 9,
   "id": "47891028",
   "metadata": {},
   "outputs": [
    {
     "name": "stdout",
     "output_type": "stream",
     "text": [
      "AGGC\n",
      "AAGA\n",
      "AGCT\n",
      "AGAA\n",
      "TTCT\n",
      "GGCC\n",
      "TGAG\n",
      "TATC\n",
      "TCAG\n",
      "TACA\n",
      "GGCG\n",
      "CAGT\n",
      "CGAA\n",
      "TCTT\n",
      "CCGG\n",
      "AATC\n",
      "ACAT\n",
      "TGCT\n",
      "CGCG\n",
      "CTTA\n",
      "AACC\n",
      "CGCT\n",
      "CTAA\n",
      "ACCT\n",
      "TTGA\n",
      "GTAA\n",
      "TTCG\n",
      "ACGA\n",
      "CATT\n",
      "GGGT\n",
      "TCCC\n",
      "TCCG\n",
      "ACGC\n",
      "TGTC\n",
      "TGAC\n",
      "AACT\n",
      "CTTT\n",
      "AAGA\n",
      "TCCT\n",
      "TGGC\n",
      "ACGA\n",
      "TGTC\n",
      "GATA\n",
      "GACA\n",
      "TTGT\n",
      "CCCT\n",
      "GATG\n",
      "ACGC\n",
      "CTCA\n",
      "CAAG\n",
      "GTAA\n",
      "CCTG\n",
      "GCTC\n",
      "TAGT\n",
      "AGGG\n",
      "TGGT\n",
      "CTTT\n",
      "GCTG\n",
      "CGGA\n",
      "ACTT\n",
      "ACCA\n",
      "CCTG\n",
      "GTGG\n",
      "ATCC\n",
      "AAGC\n",
      "ACCA\n",
      "GAGG\n",
      "AGTT\n",
      "CGAA\n",
      "GAGG\n",
      "CTGG\n",
      "GGTA\n",
      "CCCC\n",
      "CTAT\n",
      "TTAG\n",
      "GAAG\n",
      "GGCG\n",
      "AGAC\n",
      "TACG\n",
      "GTCA\n",
      "CAAA\n",
      "TTCC\n",
      "AAAT\n",
      "GGCT\n",
      "TCCC\n",
      "TCGA\n",
      "TTCA\n",
      "TGAC\n",
      "GCCA\n",
      "GAAT\n",
      "GCCT\n",
      "GGCT\n",
      "GTGC\n",
      "CAAT\n",
      "TTGT\n",
      "CGCC\n",
      "TTGC\n",
      "GTCG\n",
      "TTCT\n",
      "GTCA\n",
      "ATCT\n",
      "TTAC\n",
      "TCGT\n",
      "GTCG\n",
      "TGTT\n",
      "GTGA\n",
      "TAAA\n",
      "TGAC\n",
      "AAAC\n",
      "CCTG\n",
      "CACA\n",
      "ACGT\n",
      "AGGG\n",
      "CTCA\n",
      "CACA\n",
      "AGGG\n",
      "AATC\n",
      "TAGA\n",
      "GTAT\n",
      "CCGA\n",
      "TACA\n",
      "GGGA\n",
      "GCTT\n",
      "TAGC\n",
      "TTCC\n",
      "GTCC\n",
      "CTTA\n",
      "TAGC\n",
      "CTGC\n",
      "CATA\n",
      "TTCT\n",
      "TGCG\n",
      "GTAG\n",
      "CACG\n",
      "AGCC\n",
      "TCAG\n",
      "ATCT\n",
      "TCTC\n",
      "ACTC\n",
      "CGGA\n",
      "AATG\n",
      "GGAG\n",
      "CTTC\n",
      "GACG\n",
      "GTCA\n",
      "AGGG\n",
      "CTAA\n",
      "GACG\n",
      "TCTT\n",
      "CGGG\n",
      "AGAA\n",
      "ATAC\n",
      "CTAG\n",
      "GCGA\n",
      "TGAC\n",
      "CCTG\n",
      "AGTG\n",
      "GTTT\n",
      "TCCG\n",
      "CGTA\n",
      "TAAC\n",
      "TCAT\n",
      "CCTG\n",
      "GTTG\n",
      "CAAA\n",
      "TGAT\n",
      "TACC\n",
      "GTTA\n",
      "TAGC\n",
      "CTGG\n",
      "GGAT\n",
      "ATGC\n",
      "CTCA\n",
      "ATTC\n",
      "CGAA\n",
      "CCCA\n",
      "GGAG\n",
      "CATC\n",
      "ACTC\n",
      "GAGC\n",
      "AATA\n",
      "GCGG\n",
      "TAAA\n",
      "GGAG\n",
      "GCTA\n",
      "TTAG\n",
      "CAAA\n",
      "ATTG\n",
      "TCAC\n",
      "GATA\n",
      "AGCG\n",
      "CCGT\n",
      "TGTA\n",
      "GTGA\n",
      "AATT\n",
      "AAGA\n",
      "TACA\n",
      "TACA\n",
      "TCGT\n",
      "TTAG\n",
      "CACA\n",
      "TCAC\n",
      "TCTC\n",
      "ACGG\n",
      "CGTC\n",
      "TAGA\n",
      "AGCT\n",
      "GATC\n",
      "TTCA\n",
      "TATG\n",
      "CTGA\n",
      "CTCA\n",
      "GAAG\n",
      "GCTC\n",
      "GGAT\n",
      "AATA\n",
      "GAGG\n",
      "ACGA\n",
      "AGGT\n",
      "AGTT\n",
      "TACT\n",
      "CATC\n",
      "GCTG\n",
      "CCCC\n",
      "GACT\n",
      "ATTA\n",
      "CGTG\n",
      "TGCA\n",
      "TGAT\n",
      "AAAG\n",
      "TCTG\n",
      "ACCC\n",
      "TGAC\n",
      "GTTC\n",
      "CCAA\n",
      "GCCG\n",
      "AGGC\n",
      "AGAG\n",
      "GGGT\n",
      "TTTA\n",
      "CGCT\n",
      "GAAT\n",
      "GTCC\n",
      "GCTC\n",
      "TCTG\n",
      "TCGG\n",
      "ATGA\n",
      "TTTC\n",
      "GGAA\n",
      "GCTG\n"
     ]
    }
   ],
   "source": [
    "DNA = \"AGGCAAGAAGCTAGAATTCTGGCCTGAGTATCTCAGTACAGGCGCAGTCGAATCTTCCGGAATCACATTGCTCGCGCTTAAACCCGCTCTAAACCTTTGAGTAATTCGACGACATTGGGTTCCCTCCGACGCTGTCTGACAACTCTTTAAGATCCTTGGCACGATGTCGATAGACATTGTCCCTGATGACGCCTCACAAGGTAACCTGGCTCTAGTAGGGTGGTCTTTGCTGCGGAACTTACCACCTGGTGGATCCAAGCACCAGAGGAGTTCGAAGAGGCTGGGGTACCCCCTATTTAGGAAGGGCGAGACTACGGTCACAAATTCCAAATGGCTTCCCTCGATTCATGACGCCAGAATGCCTGGCTGTGCCAATTTGTCGCCTTGCGTCGTTCTGTCAATCTTTACTCGTGTCGTGTTGTGATAAATGACAAACCCTGCACAACGTAGGGCTCACACAAGGGAATCTAGAGTATCCGATACAGGGAGCTTTAGCTTCCGTCCCTTATAGCCTGCCATATTCTTGCGGTAGCACGAGCCTCAGATCTTCTCACTCCGGAAATGGGAGCTTCGACGGTCAAGGGCTAAGACGTCTTCGGGAGAAATACCTAGGCGATGACCCTGAGTGGTTTTCCGCGTATAACTCATCCTGGTTGCAAATGATTACCGTTATAGCCTGGGGATATGCCTCAATTCCGAACCCAGGAGCATCACTCGAGCAATAGCGGTAAAGGAGGCTATTAGCAAAATTGTCACGATAAGCGCCGTTGTAGTGAAATTAAGATACATACATCGTTTAGCACATCACTCTCACGGCGTCTAGAAGCTGATCTTCATATGCTGACTCAGAAGGCTCGGATAATAGAGGACGAAGGTAGTTTACTCATCGCTGCCCCGACTATTACGTGTGCATGATAAAGTCTGACCCTGACGTTCCCAAGCCGAGGCAGAGGGGTTTTACGCTGAATGTCCGCTCTCTGTCGGATGATTTCGGAAGCTG\"\n",
    "\n",
    "words = [DNA[i:i+4] for i in range(0, len(DNA), 4)]\n",
    "\n",
    "for word in words:\n",
    "    print(word)\n"
   ]
  }
 ],
 "metadata": {
  "kernelspec": {
   "display_name": "Python 3 (ipykernel)",
   "language": "python",
   "name": "python3"
  },
  "language_info": {
   "codemirror_mode": {
    "name": "ipython",
    "version": 3
   },
   "file_extension": ".py",
   "mimetype": "text/x-python",
   "name": "python",
   "nbconvert_exporter": "python",
   "pygments_lexer": "ipython3",
   "version": "3.10.8"
  },
  "toc": {
   "base_numbering": 1,
   "nav_menu": {},
   "number_sections": true,
   "sideBar": true,
   "skip_h1_title": false,
   "title_cell": "Table of Contents",
   "title_sidebar": "Contents",
   "toc_cell": false,
   "toc_position": {},
   "toc_section_display": true,
   "toc_window_display": false
  },
  "varInspector": {
   "cols": {
    "lenName": 16,
    "lenType": 16,
    "lenVar": 40
   },
   "kernels_config": {
    "python": {
     "delete_cmd_postfix": "",
     "delete_cmd_prefix": "del ",
     "library": "var_list.py",
     "varRefreshCmd": "print(var_dic_list())"
    },
    "r": {
     "delete_cmd_postfix": ") ",
     "delete_cmd_prefix": "rm(",
     "library": "var_list.r",
     "varRefreshCmd": "cat(var_dic_list()) "
    }
   },
   "types_to_exclude": [
    "module",
    "function",
    "builtin_function_or_method",
    "instance",
    "_Feature"
   ],
   "window_display": false
  },
  "vscode": {
   "interpreter": {
    "hash": "31f2aee4e71d21fbe5cf8b01ff0e069b9275f58929596ceb00d14d90e3e16cd6"
   }
  }
 },
 "nbformat": 4,
 "nbformat_minor": 5
}
