{
 "cells": [
  {
   "cell_type": "markdown",
   "id": "123456",
   "metadata": {},
   "source": [
    "<div style=\"text-align:left;font-size:2em\"><span style=\"font-weight:bolder;font-size:1.25em\">SP2273 | Learning Portfolio</span><br><br><span style=\"font-weight:bold;color:darkred\">Basics (Good)</span></div>"
   ]
  },
  {
   "cell_type": "markdown",
   "id": "8c06e1c9",
   "metadata": {},
   "source": [
    "## 1 More Python Basics"
   ]
  },
  {
   "cell_type": "markdown",
   "id": "d4e07fef",
   "metadata": {},
   "source": [
    "### 1.1 Computers read = from Right to Left!"
   ]
  },
  {
   "cell_type": "code",
   "execution_count": 1,
   "id": "e465429c",
   "metadata": {},
   "outputs": [
    {
     "name": "stdout",
     "output_type": "stream",
     "text": [
      "42\n",
      "42\n"
     ]
    }
   ],
   "source": [
    "x = 40\n",
    "y = x + 2\n",
    "print(y)\n",
    "\n",
    "y = 40\n",
    "y = y + 2\n",
    "print(y)"
   ]
  },
  {
   "cell_type": "markdown",
   "id": "5d0f6087",
   "metadata": {},
   "source": [
    "### 1.2 Shorter and cleaner"
   ]
  },
  {
   "cell_type": "code",
   "execution_count": 2,
   "id": "eb472cf8",
   "metadata": {},
   "outputs": [
    {
     "data": {
      "text/plain": [
       "80"
      ]
     },
     "execution_count": 2,
     "metadata": {},
     "output_type": "execute_result"
    }
   ],
   "source": [
    "y = 40\n",
    "y += 2\n",
    "y\n",
    "\n",
    "y = 40  \n",
    "y -= 2\n",
    "y\n",
    "\n",
    "#I'm assuming python cannot store multiple values of the same variable,\n",
    "#and will only store the latest value down the line\n",
    "\n",
    "y = 40\n",
    "y /= 2\n",
    "y\n",
    "\n",
    "y = 40\n",
    "y *= 2\n",
    "y"
   ]
  },
  {
   "cell_type": "markdown",
   "id": "aa717cce",
   "metadata": {},
   "source": [
    "### 1.3 Asking questions"
   ]
  },
  {
   "cell_type": "code",
   "execution_count": 3,
   "id": "7208abc1",
   "metadata": {},
   "outputs": [
    {
     "data": {
      "text/plain": [
       "True"
      ]
     },
     "execution_count": 3,
     "metadata": {},
     "output_type": "execute_result"
    }
   ],
   "source": [
    "fruits = [\"apple\", \"banana\", \"pineapple\", \"jackfruit\"]\n",
    "vegetables = [\"celery\", \"potato\", \"brocoli\", \"kale\"]\n",
    "\n",
    "\"apple\" in fruits\n",
    "\"peach\" in fruits\n",
    "\"peach\" not in fruits\n",
    "(\"apple\" in fruits) and (\"celery\" in vegetables)\n",
    "(\"apple\" in fruits) or (\"celery\" in vegetables)\n",
    "\n",
    "# Only outputs the last statement that is written."
   ]
  },
  {
   "cell_type": "markdown",
   "id": "65fbd410",
   "metadata": {},
   "source": [
    "### 1.4 There is more to if"
   ]
  },
  {
   "cell_type": "code",
   "execution_count": 4,
   "id": "65ca0fa6",
   "metadata": {},
   "outputs": [
    {
     "name": "stdout",
     "output_type": "stream",
     "text": [
      "Hello Hero | Batman!\n"
     ]
    }
   ],
   "source": [
    "name = \"Batman\"\n",
    "\n",
    "if name == \"Batman\":\n",
    "    print(\"Hello Hero | Batman!\")\n",
    "elif name == \"Robin\":\n",
    "    print(\"Hello Sidekick | Robin!\")\n",
    "else:\n",
    "    print(\"Hello World!\")"
   ]
  },
  {
   "cell_type": "markdown",
   "id": "147309b1",
   "metadata": {},
   "source": [
    "### 1.5 Python stores information in different formats or types."
   ]
  },
  {
   "cell_type": "code",
   "execution_count": 5,
   "id": "42cb2a80",
   "metadata": {},
   "outputs": [
    {
     "name": "stdout",
     "output_type": "stream",
     "text": [
      "1 <class 'int'>\n",
      "1.234 <class 'str'>\n",
      "1.234 <class 'float'>\n",
      "(1.234+0j) <class 'complex'>\n"
     ]
    }
   ],
   "source": [
    "x = int(1.234)\n",
    "print(x, type (x))\n",
    "\n",
    "x = str(1.234)\n",
    "print(x, type(x))\n",
    "\n",
    "x = float(1.234)\n",
    "print(x, type(x))\n",
    "\n",
    "x = complex(1.234)\n",
    "print(x, type(x))"
   ]
  },
  {
   "cell_type": "markdown",
   "id": "f8dc2af1",
   "metadata": {},
   "source": [
    "### 1.6 Combining English and variables"
   ]
  },
  {
   "cell_type": "code",
   "execution_count": 6,
   "id": "dc6ee955",
   "metadata": {},
   "outputs": [
    {
     "name": "stdout",
     "output_type": "stream",
     "text": [
      "Hello Batman!\n",
      "Hello BATMAN!\n",
      "The value of 10 squared is 100!\n",
      "Bruce Wayne is Batman.\n",
      "        Bruce Wayne is Batman.\n",
      "    Bruce Wayne is Batman.    \n",
      "Bruce Wayne is Batman.        \n",
      "The cube of pi to 6 decimal places is 31.006277\n",
      "The cube of pi to 6 decimal places is 3.100628e+01\n"
     ]
    }
   ],
   "source": [
    "name = \"Batman\"\n",
    "print(f\"Hello {name}!\")\n",
    "\n",
    "name = \"Batman\"\n",
    "print(f\"Hello {name.upper()}!\")\n",
    "\n",
    "x = 10\n",
    "print(f\"The value of {x} squared is {x**2}!\")\n",
    "\n",
    "text = \"Bruce Wayne is Batman.\"\n",
    "print(f\"{text}\")\n",
    "\n",
    "print(f\"{text:>30}\")\n",
    "\n",
    "print(f\"{text:^30}\")\n",
    "\n",
    "print(f\"{text:<30}\")\n",
    "\n",
    "print(f\"The cube of pi to 6 decimal places is {np.pi**3:.6f}\")\n",
    "\n",
    "print(f\"The cube of pi to 6 decimal places is {np.pi**3:.6e}\")"
   ]
  },
  {
   "cell_type": "markdown",
   "id": "0effec18",
   "metadata": {},
   "source": [
    "### 1.7 Python can be a prima-donna."
   ]
  },
  {
   "cell_type": "code",
   "execution_count": null,
   "id": "9b920c3d",
   "metadata": {},
   "outputs": [],
   "source": []
  },
  {
   "cell_type": "markdown",
   "id": "f75f4368",
   "metadata": {},
   "source": [
    "## 2 Best Practices for Scientific Computing"
   ]
  },
  {
   "cell_type": "markdown",
   "id": "655d3a61",
   "metadata": {},
   "source": [
    "### 2.1 Some tips"
   ]
  },
  {
   "cell_type": "code",
   "execution_count": null,
   "id": "92f8e4bc",
   "metadata": {},
   "outputs": [],
   "source": [
    "# Write programs for people, not computers.\n",
    "# Optimise software only after it works correctly. \n",
    "# Document design and purpose, not mechanics.\n",
    "# Collaborate. "
   ]
  },
  {
   "cell_type": "markdown",
   "id": "e577def7",
   "metadata": {},
   "source": [
    "### 2.2 Getting help."
   ]
  },
  {
   "cell_type": "code",
   "execution_count": 7,
   "id": "731d3d08",
   "metadata": {},
   "outputs": [],
   "source": [
    "# Can use stackoverflow.\n",
    "# Or use help(print)"
   ]
  },
  {
   "cell_type": "markdown",
   "id": "8cbbb4ec",
   "metadata": {},
   "source": [
    "## Exercise 1 :  Bias for some heroes"
   ]
  },
  {
   "cell_type": "code",
   "execution_count": 8,
   "id": "74e912ad",
   "metadata": {},
   "outputs": [
    {
     "name": "stdout",
     "output_type": "stream",
     "text": [
      "hello aqua man\n"
     ]
    }
   ],
   "source": [
    "#Works but it's all hardcoded, seems inefficient. \n",
    "\n",
    "def hello(name):\n",
    "    if name == \"Batman\":\n",
    "        print(\"HELLO BATMAN!\")\n",
    "    elif name == \"Black Widow\":\n",
    "        print(\"HELLO BLACK WIDOW!\")\n",
    "    elif name == \"Aqua Man\":\n",
    "        print (\"hello aqua man\")\n",
    "    else:\n",
    "        print(\"Hello World!\")\n",
    "        \n",
    "hello(\"Aqua Man\")"
   ]
  },
  {
   "cell_type": "code",
   "execution_count": 9,
   "id": "d853ed9b",
   "metadata": {},
   "outputs": [
    {
     "name": "stdout",
     "output_type": "stream",
     "text": [
      "Hello BATMAN\n"
     ]
    }
   ],
   "source": [
    "#Broken, don't grade this!\n",
    "\n",
    "def hello(name):\n",
    "    name = \"Batman\" or \"Black Widow\"\n",
    "    if name == \"Batman\" or \"Black Widow\":\n",
    "        print(f\"Hello {name.upper()}\")\n",
    "        \n",
    "        \n",
    "    elif name == \"Aqua Man\":\n",
    "        print(\"hello aqua man\")\n",
    "    else:\n",
    "        print(\"Hello World\")\n",
    "        \n",
    "hello(\"BATMAN\")"
   ]
  },
  {
   "cell_type": "code",
   "execution_count": 12,
   "id": "fb44c25e",
   "metadata": {},
   "outputs": [
    {
     "name": "stdout",
     "output_type": "stream",
     "text": [
      "HELLO BATMAN!\n",
      "None\n",
      "HELLO BLACK WIDOW!\n",
      "None\n",
      "hello aqua man!\n",
      "None\n"
     ]
    }
   ],
   "source": [
    "#With elif statements.\n",
    "\n",
    "def hello(name):\n",
    "    if name == \"Batman\":\n",
    "        print(\"HELLO BATMAN!\")\n",
    "    elif name == \"Black Widow\":\n",
    "        print(\"HELLO BLACK WIDOW!\")\n",
    "    else:\n",
    "        print(f\"hello {name}!\".lower())\n",
    "\n",
    "print(hello('Batman'))\n",
    "print(hello('Black Widow'))\n",
    "print(hello(\"Aqua Man\"))\n",
    "# Returns none as print itself doesn't return an output. \n",
    "# Printing the functions to see all cases at once. "
   ]
  },
  {
   "cell_type": "code",
   "execution_count": 13,
   "id": "40813ccc",
   "metadata": {},
   "outputs": [
    {
     "name": "stdout",
     "output_type": "stream",
     "text": [
      "HELLO BATMAN!\n",
      "None\n",
      "HELLO BLACK WIDOW!\n",
      "None\n",
      "hello aqua man!\n",
      "None\n"
     ]
    }
   ],
   "source": [
    "#With or operator included. \n",
    "\n",
    "def hello(name):\n",
    "    if name == \"Batman\" or name == \"Black Widow\":\n",
    "        print(f\"HELLO {name}!\".upper())\n",
    "    else:\n",
    "        print(f\"hello {name}!\".lower())\n",
    "\n",
    "print(hello('Batman'))\n",
    "print(hello('Black Widow'))\n",
    "print(hello(\"Aqua Man\"))"
   ]
  },
  {
   "cell_type": "markdown",
   "id": "46e38200",
   "metadata": {},
   "source": [
    "## Exercise 2 :  Bias for some heroes, continues"
   ]
  },
  {
   "cell_type": "code",
   "execution_count": 60,
   "id": "8236422c",
   "metadata": {},
   "outputs": [
    {
     "name": "stdout",
     "output_type": "stream",
     "text": [
      "HELLO BLACK WIDOW!\n"
     ]
    }
   ],
   "source": [
    "#Capitalised the first letter of every word before inputting into the conditionals \n",
    "#so the names are always in correct order.\n",
    "def hello(name):\n",
    "    name = name.title()\n",
    "    if name == \"Batman\" or name == \"Black Widow\":\n",
    "        print(f\"HELLO {name}!\".upper())\n",
    "    else:\n",
    "        print(f\"hello {name}\".lower())\n",
    "        \n",
    "hello(\"black widow\")"
   ]
  },
  {
   "cell_type": "markdown",
   "id": "8aae621b",
   "metadata": {},
   "source": [
    "## Exercise 3 :  Look for help to replace"
   ]
  },
  {
   "cell_type": "code",
   "execution_count": 31,
   "id": "2d1a673b",
   "metadata": {},
   "outputs": [
    {
     "data": {
      "text/plain": [
       "'The Batman lives in Gotham City.'"
      ]
     },
     "execution_count": 31,
     "metadata": {},
     "output_type": "execute_result"
    }
   ],
   "source": [
    "'The Joker lives in Gotham City.'.replace('Joker', 'Batman')"
   ]
  }
 ],
 "metadata": {
  "kernelspec": {
   "display_name": "Python 3 (ipykernel)",
   "language": "python",
   "name": "python3"
  },
  "language_info": {
   "codemirror_mode": {
    "name": "ipython",
    "version": 3
   },
   "file_extension": ".py",
   "mimetype": "text/x-python",
   "name": "python",
   "nbconvert_exporter": "python",
   "pygments_lexer": "ipython3",
   "version": "3.10.8"
  },
  "toc": {
   "base_numbering": 1,
   "nav_menu": {},
   "number_sections": true,
   "sideBar": true,
   "skip_h1_title": false,
   "title_cell": "Table of Contents",
   "title_sidebar": "Contents",
   "toc_cell": false,
   "toc_position": {},
   "toc_section_display": true,
   "toc_window_display": false
  },
  "varInspector": {
   "cols": {
    "lenName": 16,
    "lenType": 16,
    "lenVar": 40
   },
   "kernels_config": {
    "python": {
     "delete_cmd_postfix": "",
     "delete_cmd_prefix": "del ",
     "library": "var_list.py",
     "varRefreshCmd": "print(var_dic_list())"
    },
    "r": {
     "delete_cmd_postfix": ") ",
     "delete_cmd_prefix": "rm(",
     "library": "var_list.r",
     "varRefreshCmd": "cat(var_dic_list()) "
    }
   },
   "types_to_exclude": [
    "module",
    "function",
    "builtin_function_or_method",
    "instance",
    "_Feature"
   ],
   "window_display": false
  },
  "vscode": {
   "interpreter": {
    "hash": "31f2aee4e71d21fbe5cf8b01ff0e069b9275f58929596ceb00d14d90e3e16cd6"
   }
  }
 },
 "nbformat": 4,
 "nbformat_minor": 5
}
