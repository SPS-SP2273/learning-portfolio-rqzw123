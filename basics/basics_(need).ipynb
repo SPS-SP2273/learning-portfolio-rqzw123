{
 "cells": [
  {
   "cell_type": "markdown",
   "id": "123456",
   "metadata": {},
   "source": [
    "<div style=\"text-align:left;font-size:2em\"><span style=\"font-weight:bolder;font-size:1.25em\">SP2273 | Learning Portfolio</span><br><br><span style=\"font-weight:bold;color:darkred\">Basics (Need)</span></div>"
   ]
  },
  {
   "cell_type": "markdown",
   "id": "8d1422f1",
   "metadata": {},
   "source": [
    "## 1 Some Python Basics"
   ]
  },
  {
   "cell_type": "markdown",
   "id": "c681ca72",
   "metadata": {},
   "source": [
    "### 1.1 Functions"
   ]
  },
  {
   "cell_type": "code",
   "execution_count": 1,
   "id": "49bfe09a",
   "metadata": {},
   "outputs": [
    {
     "name": "stdout",
     "output_type": "stream",
     "text": [
      "Hello World!\n"
     ]
    }
   ],
   "source": [
    "\n",
    "print(\"Hello World!\")\n"
   ]
  },
  {
   "cell_type": "markdown",
   "id": "0301144b",
   "metadata": {},
   "source": [
    "### 1.2 Python is interpreted"
   ]
  },
  {
   "cell_type": "code",
   "execution_count": 2,
   "id": "9aa93ce2",
   "metadata": {},
   "outputs": [
    {
     "name": "stdout",
     "output_type": "stream",
     "text": [
      "Hello World\n",
      "Hello World again\n"
     ]
    }
   ],
   "source": [
    "print(\"Hello World\")\n",
    "print(\"Hello World again\")\n"
   ]
  },
  {
   "cell_type": "markdown",
   "id": "e7fcf761",
   "metadata": {},
   "source": [
    "### 1.3 Python is sensitive."
   ]
  },
  {
   "cell_type": "code",
   "execution_count": 9,
   "id": "01f20106",
   "metadata": {},
   "outputs": [
    {
     "name": "stdout",
     "output_type": "stream",
     "text": [
      "Hello World\n"
     ]
    },
    {
     "ename": "NameError",
     "evalue": "name 'Print' is not defined",
     "output_type": "error",
     "traceback": [
      "\u001b[0;31m---------------------------------------------------------------------------\u001b[0m",
      "\u001b[0;31mNameError\u001b[0m                                 Traceback (most recent call last)",
      "Cell \u001b[0;32mIn[9], line 2\u001b[0m\n\u001b[1;32m      1\u001b[0m \u001b[38;5;28mprint\u001b[39m(\u001b[38;5;124m\"\u001b[39m\u001b[38;5;124mHello World\u001b[39m\u001b[38;5;124m\"\u001b[39m)\n\u001b[0;32m----> 2\u001b[0m \u001b[43mPrint\u001b[49m(\u001b[38;5;124m\"\u001b[39m\u001b[38;5;124mHello World\u001b[39m\u001b[38;5;124m\"\u001b[39m)\n",
      "\u001b[0;31mNameError\u001b[0m: name 'Print' is not defined"
     ]
    }
   ],
   "source": [
    "print(\"Hello World\")\n",
    "Print(\"Hello World\")\n"
   ]
  },
  {
   "cell_type": "markdown",
   "id": "25ec40d3",
   "metadata": {},
   "source": [
    "### 1.4 Comments"
   ]
  },
  {
   "cell_type": "code",
   "execution_count": 11,
   "id": "ee10a80d",
   "metadata": {},
   "outputs": [
    {
     "name": "stdout",
     "output_type": "stream",
     "text": [
      "Hello World\n"
     ]
    }
   ],
   "source": [
    "print(\"Hello World\") #Printing \"Hello World.\"\n"
   ]
  },
  {
   "cell_type": "markdown",
   "id": "b9563f44",
   "metadata": {},
   "source": [
    "### 1.5 = is not the same as =="
   ]
  },
  {
   "cell_type": "code",
   "execution_count": 18,
   "id": "734db73e",
   "metadata": {
    "scrolled": true
   },
   "outputs": [
    {
     "data": {
      "text/plain": [
       "True"
      ]
     },
     "execution_count": 18,
     "metadata": {},
     "output_type": "execute_result"
    }
   ],
   "source": [
    "name = 'Batman'\n",
    "\n",
    "name == 'Batman'"
   ]
  },
  {
   "cell_type": "markdown",
   "id": "a7c25fbc",
   "metadata": {},
   "source": [
    "### 1.6 Use if to make decisions"
   ]
  },
  {
   "cell_type": "code",
   "execution_count": 29,
   "id": "d62f5681",
   "metadata": {},
   "outputs": [
    {
     "name": "stdout",
     "output_type": "stream",
     "text": [
      "Hello Hero | Batman!\n"
     ]
    }
   ],
   "source": [
    "name = 'Batman'\n",
    "if name == 'Batman':\n",
    "    print(\"Hello Hero | Batman!\")\n",
    "else:\n",
    "    print(\"Hello World\")\n",
    "\n",
    "#indentation is important in if/else if not code cannot run"
   ]
  },
  {
   "cell_type": "markdown",
   "id": "1706f0f8",
   "metadata": {},
   "source": [
    "### 1.7 Indentations (spaces) are sooo IMPORTANT!"
   ]
  },
  {
   "cell_type": "code",
   "execution_count": 26,
   "id": "aaeab1be",
   "metadata": {},
   "outputs": [
    {
     "ename": "IndentationError",
     "evalue": "unexpected indent (3672370081.py, line 5)",
     "output_type": "error",
     "traceback": [
      "\u001b[0;36m  Cell \u001b[0;32mIn[26], line 5\u001b[0;36m\u001b[0m\n\u001b[0;31m    print(x)\u001b[0m\n\u001b[0m    ^\u001b[0m\n\u001b[0;31mIndentationError\u001b[0m\u001b[0;31m:\u001b[0m unexpected indent\n"
     ]
    }
   ],
   "source": [
    "x = 10\n",
    "print(x)\n",
    "\n",
    "x = 10\n",
    "    print(x)"
   ]
  },
  {
   "cell_type": "markdown",
   "id": "a76ac26f",
   "metadata": {},
   "source": [
    "### 1.8 ‘age’ is English, age is a variable."
   ]
  },
  {
   "cell_type": "code",
   "execution_count": 60,
   "id": "c2b7ed54",
   "metadata": {},
   "outputs": [
    {
     "name": "stdout",
     "output_type": "stream",
     "text": [
      "24\n",
      "age\n",
      "You're twenty years old.\n"
     ]
    }
   ],
   "source": [
    "student_age = 24\n",
    "print(student_age)\n",
    "\n",
    "print(\"age\")\n",
    "\n",
    "print(\"You're twenty years old.\")\n",
    "#Doesn't seem to work if I use all single apostophe. \n"
   ]
  },
  {
   "cell_type": "markdown",
   "id": "381f7f24",
   "metadata": {},
   "source": [
    "### 1.9 Escape sequences"
   ]
  },
  {
   "cell_type": "code",
   "execution_count": 48,
   "id": "925f241d",
   "metadata": {},
   "outputs": [
    {
     "name": "stdout",
     "output_type": "stream",
     "text": [
      "You're twenty years old.\n",
      "A\\B\\C\n",
      "A\n",
      "B\n",
      "C\n",
      "A\tB\tC\n"
     ]
    }
   ],
   "source": [
    "print('You\\'re twenty years old.')\n",
    "\n",
    "print(\"A\\\\B\\\\C\")\n",
    "\n",
    "print(\"A\\nB\\nC\")\n",
    "\n",
    "print(\"A\\tB\\tC\")\n"
   ]
  },
  {
   "cell_type": "markdown",
   "id": "c0614409",
   "metadata": {},
   "source": [
    "### 1.10 Brackets"
   ]
  },
  {
   "cell_type": "code",
   "execution_count": 67,
   "id": "3f6f8072",
   "metadata": {},
   "outputs": [
    {
     "name": "stdout",
     "output_type": "stream",
     "text": [
      "Hello!\n",
      "Bruce Wayne\n"
     ]
    }
   ],
   "source": [
    "print(\"Hello!\")\n",
    "(1 + 2) * 5\n",
    "\n",
    "\n",
    "py_list = [1, 2, 3, 4, 5]\n",
    "\n",
    "py_list_2 = [[1, \"A\"],\n",
    "             [2, \"B\"],\n",
    "             [3, \"C\"],\n",
    "             [4, \"D\"],\n",
    "             [5, \"E\"]]\n",
    "           \n",
    "#Dictionary \n",
    "personal_info = {\"Names\": \"Batman\",\n",
    "                  \"Real Name\": \"Bruce Wayne\",\n",
    "                  \"Age\": 55, \n",
    "                  \"Affiliation\": \"Justice League\",\n",
    "                  \"Universe\": \"DC\"}\n",
    "\n",
    "print(personal_info['Real Name'])\n"
   ]
  },
  {
   "cell_type": "markdown",
   "id": "5d877524",
   "metadata": {},
   "source": [
    "## 2 Giving Python superpowers"
   ]
  },
  {
   "cell_type": "markdown",
   "id": "066949de",
   "metadata": {},
   "source": [
    "### 2.1 Packages"
   ]
  },
  {
   "cell_type": "code",
   "execution_count": 84,
   "id": "a70b88b4",
   "metadata": {},
   "outputs": [
    {
     "data": {
      "text/plain": [
       "array([2., 3., 4.])"
      ]
     },
     "execution_count": 84,
     "metadata": {},
     "output_type": "execute_result"
    }
   ],
   "source": [
    "1 * ((2-3) + 4) ** 5 / 6\n",
    "\n",
    "import math\n",
    "math.sqrt(4)\n",
    "\n",
    "import numpy as np\n",
    "np.sqrt(4)\n",
    "np.sqrt([4,9,16])"
   ]
  },
  {
   "cell_type": "markdown",
   "id": "3b12c7c6",
   "metadata": {},
   "source": [
    "### 2.2 The dot (.)"
   ]
  },
  {
   "cell_type": "code",
   "execution_count": 92,
   "id": "05dff7bc",
   "metadata": {},
   "outputs": [
    {
     "ename": "SyntaxError",
     "evalue": "invalid decimal literal (536374796.py, line 3)",
     "output_type": "error",
     "traceback": [
      "\u001b[0;36m  Cell \u001b[0;32mIn[92], line 3\u001b[0;36m\u001b[0m\n\u001b[0;31m    1234.split()\u001b[0m\n\u001b[0m        ^\u001b[0m\n\u001b[0;31mSyntaxError\u001b[0m\u001b[0;31m:\u001b[0m invalid decimal literal\n"
     ]
    }
   ],
   "source": [
    "\"I am Batman\".split()\n",
    "\n",
    "1234.split()"
   ]
  },
  {
   "cell_type": "markdown",
   "id": "be59d106",
   "metadata": {},
   "source": [
    "## Exercise 1 :  Total recall?"
   ]
  },
  {
   "cell_type": "markdown",
   "id": "96c2fb49",
   "metadata": {},
   "source": [
    "### My Own Recall Without Reference\n",
    "\n",
    "- Print is a function that prints the argument in the parathensese. \n",
    "    1. Brackets are important.\n",
    "    \n",
    "- If/Else Condition is used for questions.\n",
    "    1. It is a must to include tabs to recognise the argument.\n",
    "    \n",
    "- Different types of brackets used: () is used for arthimetic and functions, [] is used for data sets, {} is used for storing \"dictionary\".\n",
    "\n",
    "\n",
    "- You can import your own packages, namely math and numpy as np to include more math functions not available in basic Python. \n",
    "    1. After importing, the package will work until the page is restarted. \n",
    "    1. Do not import more than once.\n",
    "    \n",
    "- The dot . is used to indicate ownership of the code, and the split function can split strings/words apart. \n",
    "\n",
    "### Complete Recall With Reference\n",
    "\n",
    "**print**\n",
    "- A function that prints an argument onto the screen. \n",
    "- Liike all functions, a parenthese always follows after it to include the arguments. \n",
    "- print function is case sensitive, capitalisation will not work. \n",
    "\n",
    "**comments**\n",
    "- Include a #, and everything after it to the end of the line will not be executed. \n",
    "\n",
    "**= and ==**\n",
    "- = is an assignment operator to assign the right value to the left variable. \n",
    "- == is used for equality.\n",
    "\n",
    "**If**\n",
    "- If is used to test for a condition, has 'True' or 'False' answer. \n",
    "- Else is used otherwise if the initial condiiton is false. \n",
    "- It is a must to use indentation after if/else.\n",
    "\n",
    "**English vs Variables**\n",
    "- To use english, use \"\"\n",
    "- Otherwise, variables don't require \"\"\n",
    "\n",
    "**Escape Sequences**\n",
    "- \\' is for single quote.\n",
    "- \\\\ is for backslash.\n",
    "- \\n is for Newline.\n",
    "- \\t is for Horizental Tab. \n",
    "\n",
    "**Brackets**\n",
    "- () is used in functions, mathematics.\n",
    "- [] is used in lists of data.\n",
    "- {} is used to store data that uses a key to identify a value. \n",
    "\n",
    "**Importing Packages**\n",
    "- Import math can import additional operators not found in basic python. \n",
    "- Same for import numpy as np: but it can also handle a list of numbers. \n",
    "- Import packages only once, and python will remember until you restart the interpreter. \n",
    "\n",
    "**The dot (.)**\n",
    "- Dot is used to indicate ownership\n",
    "- Another function is the split(), which splits strings into individual words. \n",
    "\n"
   ]
  },
  {
   "cell_type": "markdown",
   "id": "a7636224",
   "metadata": {},
   "source": [
    "## Exercise 2 :  Debug me"
   ]
  },
  {
   "cell_type": "code",
   "execution_count": 106,
   "id": "8aa74705",
   "metadata": {},
   "outputs": [
    {
     "name": "stdout",
     "output_type": "stream",
     "text": [
      "3 4 5.0\n"
     ]
    }
   ],
   "source": [
    "import math\n",
    "\n",
    "x, y = 3, 4\n",
    "z = math.sqrt(x**2 + y**2)\n",
    "print(x, y, z)\n",
    "\n",
    "\n"
   ]
  },
  {
   "cell_type": "markdown",
   "id": "8ee2407f",
   "metadata": {},
   "source": [
    "## Exercise 3 :  In your own words"
   ]
  },
  {
   "cell_type": "markdown",
   "id": "d8bb957b",
   "metadata": {},
   "source": [
    "|#|  Term  |  Description  |\n",
    "|:-|  :--:  |  :-|\n",
    "|1|Function|A piece of code that can run a specific task|\n",
    "|2|Arguments|Inputs/values that are part of the function|\n",
    "|3|Comments|Anything after #, used to improve clarity/understanding of code|\n",
    "|4|Indentations|Press Tab, helps to sequence the code and allows python to read the correct code|\n",
    "|5|Packages|Something that can be imported to add more functionality beyond basic Python|\n",
    "|6|.|Used to indicate ownership of the code|\n",
    "\n"
   ]
  },
  {
   "cell_type": "markdown",
   "id": "093be044",
   "metadata": {},
   "source": [
    "## Exercise 4 :  More than one way to divide"
   ]
  },
  {
   "cell_type": "code",
   "execution_count": null,
   "id": "4298975c",
   "metadata": {},
   "outputs": [],
   "source": [
    "5/2 #This is the basic division operator in python.\n",
    "5//2 #The double forward slash or integer division operator will output the quotient. \n",
    "5%2 #The % sign or modulus operator will output the remainder in the division sequence. \n"
   ]
  }
 ],
 "metadata": {
  "kernelspec": {
   "display_name": "Python 3 (ipykernel)",
   "language": "python",
   "name": "python3"
  },
  "language_info": {
   "codemirror_mode": {
    "name": "ipython",
    "version": 3
   },
   "file_extension": ".py",
   "mimetype": "text/x-python",
   "name": "python",
   "nbconvert_exporter": "python",
   "pygments_lexer": "ipython3",
   "version": "3.10.8"
  },
  "toc": {
   "base_numbering": 1,
   "nav_menu": {},
   "number_sections": true,
   "sideBar": true,
   "skip_h1_title": false,
   "title_cell": "Table of Contents",
   "title_sidebar": "Contents",
   "toc_cell": false,
   "toc_position": {},
   "toc_section_display": true,
   "toc_window_display": false
  },
  "varInspector": {
   "cols": {
    "lenName": 16,
    "lenType": 16,
    "lenVar": 40
   },
   "kernels_config": {
    "python": {
     "delete_cmd_postfix": "",
     "delete_cmd_prefix": "del ",
     "library": "var_list.py",
     "varRefreshCmd": "print(var_dic_list())"
    },
    "r": {
     "delete_cmd_postfix": ") ",
     "delete_cmd_prefix": "rm(",
     "library": "var_list.r",
     "varRefreshCmd": "cat(var_dic_list()) "
    }
   },
   "types_to_exclude": [
    "module",
    "function",
    "builtin_function_or_method",
    "instance",
    "_Feature"
   ],
   "window_display": false
  },
  "vscode": {
   "interpreter": {
    "hash": "31f2aee4e71d21fbe5cf8b01ff0e069b9275f58929596ceb00d14d90e3e16cd6"
   }
  }
 },
 "nbformat": 4,
 "nbformat_minor": 5
}
