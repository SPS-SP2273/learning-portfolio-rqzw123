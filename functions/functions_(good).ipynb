{
 "cells": [
  {
   "cell_type": "markdown",
   "id": "123456",
   "metadata": {},
   "source": [
    "<div style=\"text-align:left;font-size:2em\"><span style=\"font-weight:bolder;font-size:1.25em\">SP2273 | Learning Portfolio</span><br><br><span style=\"font-weight:bold;color:darkred\">Functions (Good)</span></div>"
   ]
  },
  {
   "cell_type": "markdown",
   "id": "8738a0e1",
   "metadata": {},
   "source": [
    "## 1 Check, balances and contingencies"
   ]
  },
  {
   "cell_type": "markdown",
   "id": "83b7e9b8",
   "metadata": {},
   "source": [
    "### 1.1 assert"
   ]
  },
  {
   "cell_type": "code",
   "execution_count": 6,
   "id": "42bccb34",
   "metadata": {},
   "outputs": [],
   "source": [
    "x = 10\n",
    "assert x >= 0, \"x is becoming negative!\"\n",
    "\n",
    "#assert is to assert the message and stop executing the moment the condition becomes false. "
   ]
  },
  {
   "cell_type": "code",
   "execution_count": 8,
   "id": "8d9d0449",
   "metadata": {},
   "outputs": [
    {
     "ename": "AssertionError",
     "evalue": "x is becoming negative!",
     "output_type": "error",
     "traceback": [
      "\u001b[0;31m---------------------------------------------------------------------------\u001b[0m",
      "\u001b[0;31mAssertionError\u001b[0m                            Traceback (most recent call last)",
      "Cell \u001b[0;32mIn[8], line 2\u001b[0m\n\u001b[1;32m      1\u001b[0m x \u001b[38;5;241m=\u001b[39m \u001b[38;5;241m-\u001b[39m\u001b[38;5;241m10\u001b[39m\n\u001b[0;32m----> 2\u001b[0m \u001b[38;5;28;01massert\u001b[39;00m x \u001b[38;5;241m>\u001b[39m\u001b[38;5;241m=\u001b[39m \u001b[38;5;241m0\u001b[39m, \u001b[38;5;124m\"\u001b[39m\u001b[38;5;124mx is becoming negative!\u001b[39m\u001b[38;5;124m\"\u001b[39m\n",
      "\u001b[0;31mAssertionError\u001b[0m: x is becoming negative!"
     ]
    }
   ],
   "source": [
    "x = -10\n",
    "assert x >= 0, \"x is becoming negative!\""
   ]
  },
  {
   "cell_type": "markdown",
   "id": "cfea8704",
   "metadata": {},
   "source": [
    "### 1.2 try-except"
   ]
  },
  {
   "cell_type": "code",
   "execution_count": null,
   "id": "d85d83da",
   "metadata": {},
   "outputs": [],
   "source": [
    "number = input(\"Give me a number and I will calculate its square.\")\n",
    "square = int(number) ** 2\n",
    "print(f\"The square of {number} is {square}!\")\n",
    "\n",
    "#Will give a value error as I have input an invalid answer if I put string. "
   ]
  },
  {
   "cell_type": "code",
   "execution_count": 15,
   "id": "6998c015",
   "metadata": {},
   "outputs": [
    {
     "name": "stdout",
     "output_type": "stream",
     "text": [
      "Give me a number and I will calculate its square.ha\n",
      "Oh oh! I cannot square ha!\n"
     ]
    }
   ],
   "source": [
    "try:\n",
    "    number = input(\"Give me a number and I will calculate its square.\")\n",
    "    square = int(number) ** 2\n",
    "    print(f\"The square of {number} is {square}!\")\n",
    "          \n",
    "except:\n",
    "    print(f\"Oh oh! I cannot square {number}!\")\n",
    "    \n",
    "#Except will remove every possible error that appears. \n",
    "#But might not be good also if there're some underlying issues in my code??"
   ]
  },
  {
   "cell_type": "markdown",
   "id": "debf34fa",
   "metadata": {},
   "source": [
    "## 2 Some loose ends"
   ]
  },
  {
   "cell_type": "markdown",
   "id": "3d33dd2b",
   "metadata": {},
   "source": [
    "### 2.1 Positional, keyword and default arguments"
   ]
  },
  {
   "cell_type": "code",
   "execution_count": 20,
   "id": "ae980f60",
   "metadata": {},
   "outputs": [
    {
     "data": {
      "text/plain": [
       "321"
      ]
     },
     "execution_count": 20,
     "metadata": {},
     "output_type": "execute_result"
    }
   ],
   "source": [
    "def funny_add(a, b, c = 1):\n",
    "    return a + 10*b + 100*c\n",
    "funny_add(1, 2, 3)"
   ]
  },
  {
   "cell_type": "code",
   "execution_count": 21,
   "id": "84d1fde7",
   "metadata": {},
   "outputs": [
    {
     "data": {
      "text/plain": [
       "312"
      ]
     },
     "execution_count": 21,
     "metadata": {},
     "output_type": "execute_result"
    }
   ],
   "source": [
    "funny_add(c = 3, a = 2, b = 1)"
   ]
  },
  {
   "cell_type": "code",
   "execution_count": null,
   "id": "53d00c53",
   "metadata": {},
   "outputs": [],
   "source": [
    "#I didn't think funny_add(a = 2, 1) will not work as I thought it will assign b as 1, c as 1. \n",
    "#OK keyword cannot be after positional. "
   ]
  },
  {
   "cell_type": "markdown",
   "id": "74b19288",
   "metadata": {},
   "source": [
    "### 2.2 Docstrings"
   ]
  },
  {
   "cell_type": "code",
   "execution_count": 23,
   "id": "b46119cd",
   "metadata": {},
   "outputs": [
    {
     "name": "stdout",
     "output_type": "stream",
     "text": [
      "Help on function funny_add in module __main__:\n",
      "\n",
      "funny_add(a, b, c=1)\n",
      "    A test function to demonstrate how \n",
      "    positional, keyword and default arguments \n",
      "    work\n",
      "\n"
     ]
    }
   ],
   "source": [
    "def funny_add(a, b, c=1):\n",
    "    \"\"\"\n",
    "    A test function to demonstrate how \n",
    "    positional, keyword and default arguments \n",
    "    work\n",
    "    \"\"\"\n",
    "    return a + 10*b + 100*c\n",
    "\n",
    "help(funny_add)"
   ]
  },
  {
   "cell_type": "markdown",
   "id": "34444800",
   "metadata": {},
   "source": [
    "### 2.3 Function are first class citizens"
   ]
  },
  {
   "cell_type": "code",
   "execution_count": 5,
   "id": "d60de1f2",
   "metadata": {},
   "outputs": [
    {
     "data": {
      "text/plain": [
       "1.0"
      ]
     },
     "execution_count": 5,
     "metadata": {},
     "output_type": "execute_result"
    }
   ],
   "source": [
    "def my_function(angle, trig_function):\n",
    "    return trig_function(angle)\n",
    "\n",
    "my_function(np.pi/2, np.sin)\n",
    "\n",
    "#Can use round function to show the exact decimals. "
   ]
  },
  {
   "cell_type": "code",
   "execution_count": 6,
   "id": "2ec80857",
   "metadata": {},
   "outputs": [
    {
     "data": {
      "text/plain": [
       "6.123233995736766e-17"
      ]
     },
     "execution_count": 6,
     "metadata": {},
     "output_type": "execute_result"
    }
   ],
   "source": [
    "my_function(np.pi/2, np.cos)\n",
    "\n",
    "#Am I tripping but why is it not 0???? Why is it not exact?"
   ]
  },
  {
   "cell_type": "code",
   "execution_count": 26,
   "id": "dc47f0a6",
   "metadata": {},
   "outputs": [
    {
     "data": {
      "text/plain": [
       "-1.0"
      ]
     },
     "execution_count": 26,
     "metadata": {},
     "output_type": "execute_result"
    }
   ],
   "source": [
    "my_function(np.pi/2, lambda x: np.cos(2*x))\n",
    "\n",
    "#I think I can see how x is pi/2, but it seems so unintuitive. "
   ]
  },
  {
   "cell_type": "markdown",
   "id": "f84687cd",
   "metadata": {},
   "source": [
    "### 2.4 More unpacking"
   ]
  },
  {
   "cell_type": "code",
   "execution_count": 27,
   "id": "9b90c8a6",
   "metadata": {},
   "outputs": [
    {
     "name": "stdout",
     "output_type": "stream",
     "text": [
      "1 2 3\n"
     ]
    }
   ],
   "source": [
    "x, y, z = [1, 2, 3]\n",
    "print(x, y, z)"
   ]
  },
  {
   "cell_type": "code",
   "execution_count": 33,
   "id": "691fd614",
   "metadata": {},
   "outputs": [
    {
     "name": "stdout",
     "output_type": "stream",
     "text": [
      "1 2 3\n"
     ]
    }
   ],
   "source": [
    "x, y, z = np.array([1, 2, 3])\n",
    "print(x, y, z)"
   ]
  },
  {
   "cell_type": "code",
   "execution_count": 34,
   "id": "acdda910",
   "metadata": {},
   "outputs": [
    {
     "name": "stdout",
     "output_type": "stream",
     "text": [
      "1 [2, 3, 4] 5\n"
     ]
    }
   ],
   "source": [
    "x, *y, z = np.array([1, 2, 3, 4, 5])\n",
    "print(x, y, z)\n",
    "\n",
    "#What's the logic as to how the python interpreter interprets the * operator???\n",
    "#* means keep the number of values flexible. "
   ]
  },
  {
   "cell_type": "code",
   "execution_count": 35,
   "id": "1a16d82a",
   "metadata": {},
   "outputs": [
    {
     "name": "stdout",
     "output_type": "stream",
     "text": [
      "1 5\n"
     ]
    }
   ],
   "source": [
    "x, *_, y = [1, 2, 3, 4, 5]\n",
    "print(x, y)"
   ]
  },
  {
   "cell_type": "code",
   "execution_count": 8,
   "id": "c1f65a67",
   "metadata": {},
   "outputs": [
    {
     "name": "stdout",
     "output_type": "stream",
     "text": [
      "1 2 [3, 4, 5]\n"
     ]
    }
   ],
   "source": [
    "x, y, *z = np.array([1, 2, 3, 4, 5])\n",
    "print(x, y, z)"
   ]
  },
  {
   "cell_type": "markdown",
   "id": "4aa1c708",
   "metadata": {},
   "source": [
    "## Exercise 1 :  A better calculator I"
   ]
  },
  {
   "cell_type": "code",
   "execution_count": 2,
   "id": "a71831c7",
   "metadata": {},
   "outputs": [
    {
     "data": {
      "text/plain": [
       "array([0.5625    , 0.51515152, 0.78571429, 3.16666667, 0.36986301])"
      ]
     },
     "execution_count": 2,
     "metadata": {},
     "output_type": "execute_result"
    }
   ],
   "source": [
    "def add(x, y):\n",
    "    assert type(x) == int or np.array and type(y) == int or np.array, \"Insert an integer!\"\n",
    "    return x + y\n",
    "#Idk if this is a possible exception to take note of, I had to specifically include np.array if not x & y would\n",
    "#Not work. \n",
    "\n",
    "def subtract(x, y):\n",
    "    return x - y\n",
    "\n",
    "def multiply(x, y):\n",
    "    return x * y\n",
    "\n",
    "def divide(x, y):\n",
    "    assert all(y != 0), \"y cannot be 0!\"\n",
    "    return x / y\n",
    "\n",
    "x=np.array([36, 34, 44, 76, 27])\n",
    "y=np.array([64, 66, 56, 24, 73])\n",
    "\n",
    "divide(x, y)\n",
    "\n",
    "#ValueError: The truth value of an array with more than one element is ambiguous. Use a.any() or a.all()\n",
    "#This error pops up quite frequently and idk what's causing it.\n",
    "#I'm not sure why the any() function solves this problem.\n",
    "# Solved."
   ]
  },
  {
   "cell_type": "code",
   "execution_count": 9,
   "id": "77632290",
   "metadata": {},
   "outputs": [
    {
     "data": {
      "text/plain": [
       "array([0.5625    , 0.51515152, 0.78571429, 3.16666667, 0.36986301])"
      ]
     },
     "execution_count": 9,
     "metadata": {},
     "output_type": "execute_result"
    }
   ],
   "source": [
    "# Attempt 2\n",
    "# Will not create assertions for the others except division\n",
    "# As there are too many data types that can undergo arithmetic \n",
    "# And too many considerations will make code unreadable. \n",
    "def add(x, y):\n",
    "    return x + y\n",
    "\n",
    "def subtract(x, y):\n",
    "    return x - y\n",
    "\n",
    "def multiply(x, y):\n",
    "    return x * y\n",
    "\n",
    "def divide(x, y):\n",
    "    assert 0 not in y, \"y cannot be 0!\"\n",
    "    return x / y\n",
    "\n",
    "x=np.array([36, 34, 44, 76, 27])\n",
    "y=np.array([64, 66, 56, 24, 73])\n",
    "\n",
    "divide(x, y)"
   ]
  },
  {
   "cell_type": "markdown",
   "id": "a2d4d46d",
   "metadata": {},
   "source": [
    "## Exercise 2 :  A better calculator II"
   ]
  },
  {
   "cell_type": "code",
   "execution_count": 5,
   "id": "19047b7a",
   "metadata": {},
   "outputs": [
    {
     "data": {
      "text/plain": [
       "array([0.5625    , 0.51515152, 0.78571429, 3.16666667, 0.79411765])"
      ]
     },
     "execution_count": 5,
     "metadata": {},
     "output_type": "execute_result"
    }
   ],
   "source": [
    "def add(x, y):\n",
    "    try:\n",
    "        return x + y\n",
    "    except:\n",
    "        return \"Insert an integer!\"\n",
    "\n",
    "def subtract(x, y):\n",
    "    try:\n",
    "        return x - y\n",
    "    except:\n",
    "        return \"Insert an integer!\"\n",
    "\n",
    "def multiply(x, y):\n",
    "    try:\n",
    "        return x * y\n",
    "    except:\n",
    "        return \"Insert an integer!\"\n",
    "    \n",
    "def divide(x, y):\n",
    "    try:\n",
    "        return x / y\n",
    "    except ZeroDivisionError:\n",
    "        return \"y cannot be 0!\"\n",
    "    except:\n",
    "        return \"Insert an integer\"\n",
    "\n",
    "x=np.array([36, 34, 44, 76, 27])\n",
    "y=np.array([64, 66, 56, 24, 34])\n",
    "\n",
    "divide(x, y)"
   ]
  }
 ],
 "metadata": {
  "kernelspec": {
   "display_name": "Python 3 (ipykernel)",
   "language": "python",
   "name": "python3"
  },
  "language_info": {
   "codemirror_mode": {
    "name": "ipython",
    "version": 3
   },
   "file_extension": ".py",
   "mimetype": "text/x-python",
   "name": "python",
   "nbconvert_exporter": "python",
   "pygments_lexer": "ipython3",
   "version": "3.10.8"
  },
  "toc": {
   "base_numbering": 1,
   "nav_menu": {},
   "number_sections": true,
   "sideBar": true,
   "skip_h1_title": false,
   "title_cell": "Table of Contents",
   "title_sidebar": "Contents",
   "toc_cell": false,
   "toc_position": {},
   "toc_section_display": true,
   "toc_window_display": false
  },
  "varInspector": {
   "cols": {
    "lenName": 16,
    "lenType": 16,
    "lenVar": 40
   },
   "kernels_config": {
    "python": {
     "delete_cmd_postfix": "",
     "delete_cmd_prefix": "del ",
     "library": "var_list.py",
     "varRefreshCmd": "print(var_dic_list())"
    },
    "r": {
     "delete_cmd_postfix": ") ",
     "delete_cmd_prefix": "rm(",
     "library": "var_list.r",
     "varRefreshCmd": "cat(var_dic_list()) "
    }
   },
   "types_to_exclude": [
    "module",
    "function",
    "builtin_function_or_method",
    "instance",
    "_Feature"
   ],
   "window_display": false
  },
  "vscode": {
   "interpreter": {
    "hash": "31f2aee4e71d21fbe5cf8b01ff0e069b9275f58929596ceb00d14d90e3e16cd6"
   }
  }
 },
 "nbformat": 4,
 "nbformat_minor": 5
}
