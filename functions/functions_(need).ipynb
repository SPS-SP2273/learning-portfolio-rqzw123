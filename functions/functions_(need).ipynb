{
 "cells": [
  {
   "cell_type": "markdown",
   "id": "123456",
   "metadata": {},
   "source": [
    "<div style=\"text-align:left;font-size:2em\"><span style=\"font-weight:bolder;font-size:1.25em\">SP2273 | Learning Portfolio</span><br><br><span style=\"font-weight:bold;color:darkred\">Functions (Need)</span></div>"
   ]
  },
  {
   "cell_type": "markdown",
   "id": "fda9da29",
   "metadata": {},
   "source": [
    "## 1 User defined functions"
   ]
  },
  {
   "cell_type": "markdown",
   "id": "4f62952d",
   "metadata": {},
   "source": [
    "### 1.1 Named functions that return"
   ]
  },
  {
   "cell_type": "code",
   "execution_count": 4,
   "id": "428b2e93",
   "metadata": {},
   "outputs": [
    {
     "data": {
      "text/plain": [
       "'Hello Super Man'"
      ]
     },
     "execution_count": 4,
     "metadata": {},
     "output_type": "execute_result"
    }
   ],
   "source": [
    "def greeting(name):\n",
    "    if name == \"Batman\":\n",
    "        return \"Hello Batman! So, nice to meet you!\"\n",
    "    else:\n",
    "        return f\"Hello {name}\"\n",
    "    \n",
    "greeting(\"Super Man\")\n",
    "\n",
    "#Need to remember that return can only be used inside functions!!!"
   ]
  },
  {
   "cell_type": "code",
   "execution_count": 1,
   "id": "531d3aa4",
   "metadata": {},
   "outputs": [],
   "source": [
    "def basic_stats(numbers):\n",
    "    np_numbers = np.array(numbers)\n",
    "    return np_numbers.min(), np_numbers.max(), np_numbers.mean()\n",
    "\n",
    "list_min, list_max, list_mean = basic_stats([1, 2, 3, 4, 5])  "
   ]
  },
  {
   "cell_type": "code",
   "execution_count": 6,
   "id": "db18e05d",
   "metadata": {},
   "outputs": [
    {
     "data": {
      "text/plain": [
       "(1, 5, 3.0)"
      ]
     },
     "execution_count": 6,
     "metadata": {},
     "output_type": "execute_result"
    }
   ],
   "source": [
    "basic_stats([1, 2, 3, 4, 5]) "
   ]
  },
  {
   "cell_type": "code",
   "execution_count": 5,
   "id": "cfed5630",
   "metadata": {},
   "outputs": [
    {
     "data": {
      "text/plain": [
       "1"
      ]
     },
     "execution_count": 5,
     "metadata": {},
     "output_type": "execute_result"
    }
   ],
   "source": [
    "list_min"
   ]
  },
  {
   "cell_type": "markdown",
   "id": "0422dedb",
   "metadata": {},
   "source": [
    "### 1.2 Named functions that don’t return"
   ]
  },
  {
   "cell_type": "code",
   "execution_count": 15,
   "id": "d505d16d",
   "metadata": {},
   "outputs": [
    {
     "name": "stdout",
     "output_type": "stream",
     "text": [
      "\n"
     ]
    }
   ],
   "source": [
    "print()\n",
    "#Interesting. "
   ]
  },
  {
   "cell_type": "markdown",
   "id": "e72d5959",
   "metadata": {},
   "source": [
    "### 1.3 Anonymous functions"
   ]
  },
  {
   "cell_type": "code",
   "execution_count": 19,
   "id": "73ddf4cf",
   "metadata": {},
   "outputs": [
    {
     "data": {
      "text/plain": [
       "'Hello Super Man!'"
      ]
     },
     "execution_count": 19,
     "metadata": {},
     "output_type": "execute_result"
    }
   ],
   "source": [
    "my_short_function = lambda name: f\"Hello {name}!\"\n",
    "my_short_function(\"Super Man\")\n",
    "\n",
    "# Is there any advantage as to entering the argument with \"name = \"Super Man\" instead of just superman?\n",
    "# Ans: Good to use when writing multiple arguments in a function"
   ]
  },
  {
   "cell_type": "code",
   "execution_count": 2,
   "id": "6379fa63",
   "metadata": {},
   "outputs": [
    {
     "data": {
      "text/plain": [
       "[[0, 9, 19],\n",
       " [1, 8, 18],\n",
       " [2, 7, 17],\n",
       " [3, 6, 16],\n",
       " [4, 5, 15],\n",
       " [5, 4, 14],\n",
       " [6, 3, 13],\n",
       " [7, 2, 12],\n",
       " [8, 1, 11],\n",
       " [9, 0, 10]]"
      ]
     },
     "execution_count": 2,
     "metadata": {},
     "output_type": "execute_result"
    }
   ],
   "source": [
    "numbers = [[9, 0, 10],\n",
    "          [8, 1, 11], \n",
    "          [7, 2, 12],\n",
    "          [6, 3, 13],\n",
    "          [5, 4, 14],\n",
    "          [4, 5, 15],\n",
    "          [3, 6, 16],\n",
    "          [2, 7, 17],\n",
    "          [1, 8, 18],\n",
    "          [0, 9, 19]]\n",
    "\n",
    "sorted(numbers) "
   ]
  },
  {
   "cell_type": "code",
   "execution_count": 21,
   "id": "3eae4308",
   "metadata": {},
   "outputs": [
    {
     "data": {
      "text/plain": [
       "[[9, 0, 10],\n",
       " [8, 1, 11],\n",
       " [7, 2, 12],\n",
       " [6, 3, 13],\n",
       " [5, 4, 14],\n",
       " [4, 5, 15],\n",
       " [3, 6, 16],\n",
       " [2, 7, 17],\n",
       " [1, 8, 18],\n",
       " [0, 9, 19]]"
      ]
     },
     "execution_count": 21,
     "metadata": {},
     "output_type": "execute_result"
    }
   ],
   "source": [
    "sorted(numbers, key = lambda x:x[1])"
   ]
  },
  {
   "cell_type": "code",
   "execution_count": 23,
   "id": "db5313a7",
   "metadata": {},
   "outputs": [
    {
     "data": {
      "text/plain": [
       "[[9, 0, 10],\n",
       " [8, 1, 11],\n",
       " [7, 2, 12],\n",
       " [6, 3, 13],\n",
       " [5, 4, 14],\n",
       " [4, 5, 15],\n",
       " [3, 6, 16],\n",
       " [2, 7, 17],\n",
       " [1, 8, 18],\n",
       " [0, 9, 19]]"
      ]
     },
     "execution_count": 23,
     "metadata": {},
     "output_type": "execute_result"
    }
   ],
   "source": [
    "sorted(numbers, key = lambda x: sum(x))"
   ]
  },
  {
   "cell_type": "markdown",
   "id": "7ff1ff98",
   "metadata": {},
   "source": [
    "### 1.4 Optional arguments"
   ]
  },
  {
   "cell_type": "code",
   "execution_count": 3,
   "id": "eaa4dd95",
   "metadata": {},
   "outputs": [
    {
     "data": {
      "text/plain": [
       "'Hello no one'"
      ]
     },
     "execution_count": 3,
     "metadata": {},
     "output_type": "execute_result"
    }
   ],
   "source": [
    "def greeting(name = \"no one\"):\n",
    "    if name == \"Batman\":\n",
    "        return \"Hello Batman! So, nice to meet you!\"\n",
    "    else:\n",
    "        return f\"Hello {name}\"\n",
    "    \n",
    "greeting()\n",
    "\n",
    "#I'm assuming that by already making assigning name as no one it is the default value. "
   ]
  },
  {
   "cell_type": "code",
   "execution_count": 32,
   "id": "271dc893",
   "metadata": {},
   "outputs": [
    {
     "name": "stdout",
     "output_type": "stream",
     "text": [
      "I am Batman!\n",
      "I.am.Batman!\n"
     ]
    }
   ],
   "source": [
    "print(\"I\", \"am\", \"Batman!\")\n",
    "print(\"I\", \"am\", \"Batman!\", sep = \".\")"
   ]
  },
  {
   "cell_type": "markdown",
   "id": "8b3ba4cb",
   "metadata": {},
   "source": [
    "## 2 The importance of functions?"
   ]
  },
  {
   "cell_type": "markdown",
   "id": "c2fdfd88",
   "metadata": {},
   "source": [
    "### 2.1 An argument for functions"
   ]
  },
  {
   "cell_type": "code",
   "execution_count": null,
   "id": "c9733275",
   "metadata": {},
   "outputs": [],
   "source": [
    "# Abstraction to hide away unnecessary information. \n",
    "# Reusability of code.\n",
    "# Maintainability of code."
   ]
  },
  {
   "cell_type": "markdown",
   "id": "e2b78a69",
   "metadata": {},
   "source": [
    "### 2.2 A word of caution"
   ]
  },
  {
   "cell_type": "code",
   "execution_count": null,
   "id": "795b01fc",
   "metadata": {},
   "outputs": [],
   "source": [
    "# Do not use too many functions, make one that is overcomplicated.\n",
    "# Or too many arguments. "
   ]
  },
  {
   "cell_type": "markdown",
   "id": "82791dfc",
   "metadata": {},
   "source": [
    "## Exercise 1 :  Do you know why?"
   ]
  },
  {
   "cell_type": "markdown",
   "id": "f4e8033f",
   "metadata": {},
   "source": [
    "The function will test the first condition by checking if the argument is \"Batman\". \n",
    "If so, the first return statement will be executed.\n",
    "\n",
    "If any other name is given, python will simply execute the next statement after the if conditon,\n",
    "which is to return Hello name (as though there is an else statement is there).\n"
   ]
  },
  {
   "cell_type": "markdown",
   "id": "833559b5",
   "metadata": {},
   "source": [
    "## Exercise 2 :  Calculator functions"
   ]
  },
  {
   "cell_type": "code",
   "execution_count": 7,
   "id": "fda9dfad",
   "metadata": {},
   "outputs": [
    {
     "data": {
      "text/plain": [
       "array([0.5625    , 0.51515152, 0.78571429, 3.16666667, 0.79411765])"
      ]
     },
     "execution_count": 7,
     "metadata": {},
     "output_type": "execute_result"
    }
   ],
   "source": [
    "def add(x, y):\n",
    "    return x + y\n",
    "\n",
    "def subtract(x, y):\n",
    "    return x - y\n",
    "\n",
    "def multiply(x, y):\n",
    "    return x * y\n",
    "\n",
    "def divide(x, y):\n",
    "    if any(y == 0):\n",
    "        return \"y cannot be 0!\"\n",
    "        exit() #Actually the exit function is not necessary. \n",
    "    else:\n",
    "        return x / y\n",
    "    \n",
    "x=np.array([36, 34, 44, 76, 27])\n",
    "y=np.array([64, 66, 56, 24, 34])\n",
    "\n",
    "divide(x, y)"
   ]
  },
  {
   "cell_type": "code",
   "execution_count": 9,
   "id": "75fbdd24",
   "metadata": {},
   "outputs": [
    {
     "data": {
      "text/plain": [
       "array([0.5625    , 0.51515152, 0.78571429, 3.16666667, 0.79411765])"
      ]
     },
     "execution_count": 9,
     "metadata": {},
     "output_type": "execute_result"
    }
   ],
   "source": [
    "# Another attempt for divide(x, y)\n",
    "\n",
    "def divide(x, y):\n",
    "    if 0 in y:\n",
    "        return 'y cannot be 0!'\n",
    "    else:\n",
    "        return x / y\n",
    "    \n",
    "divide(x, y)"
   ]
  },
  {
   "cell_type": "code",
   "execution_count": 11,
   "id": "b0c8481d",
   "metadata": {},
   "outputs": [
    {
     "data": {
      "text/plain": [
       "True"
      ]
     },
     "execution_count": 11,
     "metadata": {},
     "output_type": "execute_result"
    }
   ],
   "source": [
    "any(y) # Any is a boolean statement "
   ]
  },
  {
   "cell_type": "code",
   "execution_count": 16,
   "id": "0e3a8e82",
   "metadata": {},
   "outputs": [
    {
     "data": {
      "text/plain": [
       "True"
      ]
     },
     "execution_count": 16,
     "metadata": {},
     "output_type": "execute_result"
    }
   ],
   "source": [
    "y=np.array([64, 66, 56, 24, 0])\n",
    "any(y == 0) # How any should be used "
   ]
  },
  {
   "cell_type": "code",
   "execution_count": null,
   "id": "31750a35",
   "metadata": {},
   "outputs": [],
   "source": [
    "# Broken attempt \n",
    "def divide(x, y):\n",
    "    if y == 0:\n",
    "        return \"y cannot be 0!\"\n",
    "        exit()\n",
    "    else:\n",
    "        return x / y\n",
    "x=np.array([36, 34, 44, 76, 27])\n",
    "y=np.array([64, 66, 56, 24, 73])\n",
    "    \n",
    "divide(x, y)\n",
    "\n",
    "#y == 0 is assuming that the list == 0, which doesn't make sense."
   ]
  },
  {
   "cell_type": "markdown",
   "id": "c8dcd418",
   "metadata": {},
   "source": [
    "## Exercise 3 :  max_info() with NumPy"
   ]
  },
  {
   "cell_type": "code",
   "execution_count": 20,
   "id": "4c541947",
   "metadata": {},
   "outputs": [
    {
     "data": {
      "text/plain": [
       "(83, 2)"
      ]
     },
     "execution_count": 20,
     "metadata": {},
     "output_type": "execute_result"
    }
   ],
   "source": [
    "def max_info(numbers):\n",
    "    return np.max(numbers), np.argmax(numbers)\n",
    "\n",
    "numbers = [40, 27, 83, 44, 74, 51, 76, 77, 10, 49]\n",
    "\n",
    "max_info(numbers)"
   ]
  },
  {
   "cell_type": "code",
   "execution_count": 20,
   "id": "7f9c0845",
   "metadata": {},
   "outputs": [
    {
     "data": {
      "text/plain": [
       "'Max value is 83, location is 2'"
      ]
     },
     "execution_count": 20,
     "metadata": {},
     "output_type": "execute_result"
    }
   ],
   "source": [
    "# Attempt 2\n",
    "\n",
    "def max_info(numbers):\n",
    "    max_no = np.max(numbers)\n",
    "    loc_no = np.argmax(numbers)\n",
    "    return f\"Max value is {max_no}, location is {loc_no}\"\n",
    "\n",
    "numbers = [40, 27, 83, 44, 74, 51, 76, 77, 10, 49]\n",
    "max_info(numbers)"
   ]
  }
 ],
 "metadata": {
  "kernelspec": {
   "display_name": "Python 3 (ipykernel)",
   "language": "python",
   "name": "python3"
  },
  "language_info": {
   "codemirror_mode": {
    "name": "ipython",
    "version": 3
   },
   "file_extension": ".py",
   "mimetype": "text/x-python",
   "name": "python",
   "nbconvert_exporter": "python",
   "pygments_lexer": "ipython3",
   "version": "3.10.8"
  },
  "toc": {
   "base_numbering": 1,
   "nav_menu": {},
   "number_sections": true,
   "sideBar": true,
   "skip_h1_title": false,
   "title_cell": "Table of Contents",
   "title_sidebar": "Contents",
   "toc_cell": false,
   "toc_position": {},
   "toc_section_display": true,
   "toc_window_display": false
  },
  "varInspector": {
   "cols": {
    "lenName": 16,
    "lenType": 16,
    "lenVar": 40
   },
   "kernels_config": {
    "python": {
     "delete_cmd_postfix": "",
     "delete_cmd_prefix": "del ",
     "library": "var_list.py",
     "varRefreshCmd": "print(var_dic_list())"
    },
    "r": {
     "delete_cmd_postfix": ") ",
     "delete_cmd_prefix": "rm(",
     "library": "var_list.r",
     "varRefreshCmd": "cat(var_dic_list()) "
    }
   },
   "types_to_exclude": [
    "module",
    "function",
    "builtin_function_or_method",
    "instance",
    "_Feature"
   ],
   "window_display": false
  },
  "vscode": {
   "interpreter": {
    "hash": "31f2aee4e71d21fbe5cf8b01ff0e069b9275f58929596ceb00d14d90e3e16cd6"
   }
  }
 },
 "nbformat": 4,
 "nbformat_minor": 5
}
