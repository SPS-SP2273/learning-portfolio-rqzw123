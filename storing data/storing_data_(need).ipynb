{
 "cells": [
  {
   "cell_type": "markdown",
   "id": "123456",
   "metadata": {},
   "source": [
    "<div style=\"text-align:left;font-size:2em\"><span style=\"font-weight:bolder;font-size:1.25em\">SP2273 | Learning Portfolio</span><br><br><span style=\"font-weight:bold;color:darkred\">Storing Data (Need)</span></div>"
   ]
  },
  {
   "cell_type": "markdown",
   "id": "f301243c",
   "metadata": {},
   "source": [
    "## 1 Lists, Arrays & Dictionaries"
   ]
  },
  {
   "cell_type": "markdown",
   "id": "f1f328b2",
   "metadata": {},
   "source": [
    "### 1.1 Let’s compare"
   ]
  },
  {
   "cell_type": "code",
   "execution_count": 1,
   "id": "0a199cf6",
   "metadata": {},
   "outputs": [],
   "source": [
    "import numpy as np\n",
    "\n",
    "# Python Lists\n",
    "\n",
    "py_super_names = [\"Black Widow\", \"Iron Man\", \"Doctor Strange\"]\n",
    "py_real_names = [\"Natasha Romanoff\", \"Tony Stark\", \"Stephen Strange\"]\n",
    "\n",
    "# Numpy Arrays\n",
    "\n",
    "np_super_names = np.array([\"Black Widow\", \"Iron Man\", \"Doctor Strange\"])\n",
    "np_real_names = np.array([\"Natasha Romanoff\", \"Tony Stark\", \"Stephen Strange\"])\n",
    "\n",
    "# Dictionary \n",
    "superhero_info = {\"Natasha Romanoff\": \"Black Widow\",\n",
    "                  \"Tony Stark\": \"Iron Man\",\n",
    "                  \"Stephen Strange\": \"Doctor Strange\"\n",
    "                 }\n",
    "                  "
   ]
  },
  {
   "cell_type": "markdown",
   "id": "4cc7d0a7",
   "metadata": {},
   "source": [
    "### 1.2 Accessing data from a list (or array)"
   ]
  },
  {
   "cell_type": "code",
   "execution_count": 2,
   "id": "79a3f5e4",
   "metadata": {},
   "outputs": [
    {
     "name": "stdout",
     "output_type": "stream",
     "text": [
      "Black Widow\n",
      "Natasha Romanoff\n",
      "Doctor Strange\n",
      "Doctor Strange\n"
     ]
    },
    {
     "data": {
      "text/plain": [
       "'Iron Man'"
      ]
     },
     "execution_count": 2,
     "metadata": {},
     "output_type": "execute_result"
    }
   ],
   "source": [
    "hero_names = [\"Black Widow\", \"Iron Man\", \"Doctor Strange\"]\n",
    "real_names = [\"Natasha Romanoff\", \"Tony Stark\", \"Stephen Strange\"]\n",
    "\n",
    "print(hero_names[0])\n",
    "print(real_names[0])\n",
    "print(hero_names[2])\n",
    "print(hero_names[-1])\n",
    "\n",
    "#Calling the list will just output the data e.g. hero_names[0]"
   ]
  },
  {
   "cell_type": "code",
   "execution_count": 3,
   "id": "cc37bc15",
   "metadata": {},
   "outputs": [
    {
     "data": {
      "text/plain": [
       "'Black Widow'"
      ]
     },
     "execution_count": 3,
     "metadata": {},
     "output_type": "execute_result"
    }
   ],
   "source": [
    "#Trying it as an array:\n",
    "hero_names = np.array([\"Black Widow\", \"Iron Man\", \"Doctor Strange\"])\n",
    "real_names = np.array([\"Natasha Romanoff\", \"Tony Stark\", \"Stephen Strange\"])\n",
    "\n",
    "(hero_names[0])"
   ]
  },
  {
   "cell_type": "markdown",
   "id": "31e25429",
   "metadata": {},
   "source": [
    "### 1.3 Accessing data from a dictionary"
   ]
  },
  {
   "cell_type": "code",
   "execution_count": 12,
   "id": "1f23acac",
   "metadata": {},
   "outputs": [
    {
     "name": "stdout",
     "output_type": "stream",
     "text": [
      "Black Widow\n"
     ]
    },
    {
     "data": {
      "text/plain": [
       "dict_values(['Black Widow', 'Iron Man', 'Doctor Strange'])"
      ]
     },
     "execution_count": 12,
     "metadata": {},
     "output_type": "execute_result"
    }
   ],
   "source": [
    "superhero_info = {\"Natasha Romanoff\": \"Black Widow\",\n",
    "                  \"Tony Stark\": \"Iron Man\",\n",
    "                  \"Stephen Strange\": \"Doctor Strange\"\n",
    "                  }\n",
    "print(superhero_info[\"Natasha Romanoff\"])\n",
    "superhero_info.keys()\n",
    "superhero_info.values()"
   ]
  },
  {
   "cell_type": "markdown",
   "id": "9c3788a9",
   "metadata": {},
   "source": [
    "### 1.4 Higher dimensional lists"
   ]
  },
  {
   "cell_type": "code",
   "execution_count": 3,
   "id": "18f36e57",
   "metadata": {},
   "outputs": [
    {
     "name": "stdout",
     "output_type": "stream",
     "text": [
      "Natasha Romanoff\n"
     ]
    }
   ],
   "source": [
    "py_superhero_info = [[\"Natasha Romanoff\", \"Black Widow\"],\n",
    "                     [\"Tony Stark\", \"Iron Man\"],\n",
    "                     [\"Stephen Strange\", \"Doctor Strange\"]]\n",
    "\n",
    "print(py_superhero_info[0][0])"
   ]
  },
  {
   "cell_type": "markdown",
   "id": "cc3ef961",
   "metadata": {},
   "source": [
    "## 2 Lists vs. Arrays"
   ]
  },
  {
   "cell_type": "markdown",
   "id": "8b463ead",
   "metadata": {},
   "source": [
    "### 2.1 Size"
   ]
  },
  {
   "cell_type": "code",
   "execution_count": 21,
   "id": "78b40602",
   "metadata": {},
   "outputs": [
    {
     "data": {
      "text/plain": [
       "(10, 2)"
      ]
     },
     "execution_count": 21,
     "metadata": {},
     "output_type": "execute_result"
    }
   ],
   "source": [
    "py_list_2d = [[1, \"A\"], [2, \"B\"], [3, \"C\"], [4, \"D\"], [5, \"E\"],\n",
    "              [6, \"F\"], [7, \"G\"], [8, \"H\"], [9, \"I\"], [10, \"J\"]]\n",
    "              \n",
    "np_array_2d = np.array(py_list_2d)\n",
    "\n",
    "len(py_list_2d)\n",
    "len(np_array_2d)\n",
    "np_array_2d.shape"
   ]
  },
  {
   "cell_type": "markdown",
   "id": "66dc27fc",
   "metadata": {},
   "source": [
    "### 2.2 Arrays are fussy about type"
   ]
  },
  {
   "cell_type": "code",
   "execution_count": 22,
   "id": "497dda97",
   "metadata": {},
   "outputs": [
    {
     "data": {
      "text/plain": [
       "array(['1', '1.5', 'A'], dtype='<U32')"
      ]
     },
     "execution_count": 22,
     "metadata": {},
     "output_type": "execute_result"
    }
   ],
   "source": [
    "py_list = [1, 1.5,  'A']\n",
    "np.array(py_list)"
   ]
  },
  {
   "cell_type": "markdown",
   "id": "502e3c51",
   "metadata": {},
   "source": [
    "### 2.3 Adding a number"
   ]
  },
  {
   "cell_type": "code",
   "execution_count": 10,
   "id": "d2593647",
   "metadata": {},
   "outputs": [
    {
     "data": {
      "text/plain": [
       "array([11, 12, 13, 14, 15])"
      ]
     },
     "execution_count": 10,
     "metadata": {},
     "output_type": "execute_result"
    }
   ],
   "source": [
    "py_list = [1,2,3,4,5]\n",
    "np_array = np.array(py_list)\n",
    "\n",
    "np_array + 10\n",
    "\n",
    "#py_list + 10 will give error"
   ]
  },
  {
   "cell_type": "markdown",
   "id": "65c07bc6",
   "metadata": {},
   "source": [
    "### 2.4 Adding another list"
   ]
  },
  {
   "cell_type": "code",
   "execution_count": 3,
   "id": "803cb545",
   "metadata": {},
   "outputs": [
    {
     "data": {
      "text/plain": [
       "array([11, 22, 33, 44, 55])"
      ]
     },
     "execution_count": 3,
     "metadata": {},
     "output_type": "execute_result"
    }
   ],
   "source": [
    "py_list_1 = [1, 2, 3, 4, 5]\n",
    "py_list_2 = [10, 20, 30, 40, 50]\n",
    "\n",
    "np_array_1 = np.array(py_list_1)\n",
    "np_array_2 = np.array(py_list_2)\n",
    "\n",
    "py_list_1 + py_list_2 \n",
    "\n",
    "np_array_1 + np_array_2\n",
    "\n",
    "#Lists will combine the data values together, arrays will perform arthimetic ig"
   ]
  },
  {
   "cell_type": "markdown",
   "id": "cf48523a",
   "metadata": {},
   "source": [
    "### 2.5 Multiplying by a Number"
   ]
  },
  {
   "cell_type": "code",
   "execution_count": 32,
   "id": "4b9c43b4",
   "metadata": {},
   "outputs": [
    {
     "data": {
      "text/plain": [
       "array([ 2,  4,  6,  8, 10])"
      ]
     },
     "execution_count": 32,
     "metadata": {},
     "output_type": "execute_result"
    }
   ],
   "source": [
    "py_list = [1,2,3,4,5]\n",
    "np_array = np.array(py_list)\n",
    "\n",
    "py_list * 2\n",
    "\n",
    "#Data in lists are treated as str?\n",
    "\n",
    "np_array * 2\n",
    "\n",
    "#Math is actually performed in the array"
   ]
  },
  {
   "cell_type": "markdown",
   "id": "53655343",
   "metadata": {},
   "source": [
    "### 2.6 Squaring"
   ]
  },
  {
   "cell_type": "code",
   "execution_count": 4,
   "id": "3de5b1ac",
   "metadata": {},
   "outputs": [
    {
     "data": {
      "text/plain": [
       "array([ 1,  4,  9, 16, 25])"
      ]
     },
     "execution_count": 4,
     "metadata": {},
     "output_type": "execute_result"
    }
   ],
   "source": [
    "py_list = [1, 2, 3, 4, 5]\n",
    "np_array = np.array(py_list)\n",
    "\n",
    "#py_list ** 2 don't work as exponential is nonsupported operator in list!\n",
    "\n",
    "np_array ** 2\n",
    "\n",
    "#Works for this as can perform math"
   ]
  },
  {
   "cell_type": "markdown",
   "id": "cfa4fa3b",
   "metadata": {},
   "source": [
    "### 2.7 Asking questions"
   ]
  },
  {
   "cell_type": "code",
   "execution_count": 39,
   "id": "9d935e38",
   "metadata": {},
   "outputs": [
    {
     "data": {
      "text/plain": [
       "array([False, False, False,  True,  True])"
      ]
     },
     "execution_count": 39,
     "metadata": {},
     "output_type": "execute_result"
    }
   ],
   "source": [
    "py_list = [1,2,3,4,5]\n",
    "np_array = np.array(py_list)\n",
    "\n",
    "py_list == 3\n",
    "\n",
    "#I think it's asking if the entire list is 3, which is false?\n",
    "#No circumstances where a list can be equal to an integer.\n",
    "\n",
    "np_array == 3\n",
    "\n",
    "#Goes through the entire array from left to right and checks if the criteria is true/false. \n",
    "\n",
    "np_array > 3\n"
   ]
  },
  {
   "cell_type": "markdown",
   "id": "06045e77",
   "metadata": {},
   "source": [
    "### 2.8 Mathematics"
   ]
  },
  {
   "cell_type": "code",
   "execution_count": 5,
   "id": "5b767a24",
   "metadata": {},
   "outputs": [
    {
     "data": {
      "text/plain": [
       "1"
      ]
     },
     "execution_count": 5,
     "metadata": {},
     "output_type": "execute_result"
    }
   ],
   "source": [
    "py_list = [1, 2, 3, 4, 5]\n",
    "renamed_array = np.array(py_list)\n",
    "\n",
    "sum(py_list)\n",
    "max(py_list)\n",
    "min(py_list)\n",
    "\n",
    "#py_list.sum()\n",
    "\n",
    "#Doesn't work cos it's a numpy sum function, will not work on py list.\n",
    "\n",
    "renamed_array.sum()\n",
    "renamed_array.mean()\n",
    "renamed_array.max()\n",
    "renamed_array.min()"
   ]
  },
  {
   "cell_type": "markdown",
   "id": "3d4f0968",
   "metadata": {},
   "source": [
    "## Exercise 1 :  Total recall?"
   ]
  },
  {
   "cell_type": "markdown",
   "id": "2c6f38cb",
   "metadata": {},
   "source": [
    "**1. Two similarities between lists and arrays**\n",
    "\n",
    "- Lists and arrays are able to store data by enclosing them in [ ] and separating the data with a ,\n",
    "- _Both allow you to access data inside the list/array and output them._\n",
    "\n",
    "**2. Two differences between list and arrays.**\n",
    "- List is from python, an array requires an import from numpy first.\n",
    "- List is more accomodating in taking in multiple data types, while an array can only take in a single data type.\n",
    "- _Arithmetic will not work on a list (+10) but works on array. A list acts like a str in some sense where 2 lists can be concentenated together with + instead of adding the datas inside. (Correct me if wrong!)_\n",
    "\n",
    "\n",
    "**3. What is a dictionary?**\n",
    "- A dictionary works as a key and value system, enclosed with {} parantheses. It stores the keys on the left side, and returns the values stored on the right when called for. \n",
    "- _To output the return value, use ```print(dictionary_name[\"key\"])```_"
   ]
  },
  {
   "cell_type": "markdown",
   "id": "a691d0d4",
   "metadata": {},
   "source": [
    "## Exercise 2 :  Index me"
   ]
  },
  {
   "cell_type": "code",
   "execution_count": 50,
   "id": "0cc0f2c4",
   "metadata": {},
   "outputs": [
    {
     "name": "stdout",
     "output_type": "stream",
     "text": [
      "['a1', 'c3', 'e5', 'g7', 'i9']\n"
     ]
    }
   ],
   "source": [
    "py_list = [\"a1\", \"b2\", \"c3\", \"d4\", \"e5\", \"f6\", \"g7\", \"h8\", \"i9\", \"j10\"]\n",
    "                    \n",
    "print(py_list[::2])"
   ]
  },
  {
   "cell_type": "markdown",
   "id": "7d478fce",
   "metadata": {},
   "source": [
    "## Exercise 3 :  Capitalise Heros"
   ]
  },
  {
   "cell_type": "code",
   "execution_count": 6,
   "id": "3cffe0ba",
   "metadata": {},
   "outputs": [
    {
     "name": "stdout",
     "output_type": "stream",
     "text": [
      "DOCTOR STRANGE\n"
     ]
    }
   ],
   "source": [
    "superhero_info = {\"Natasha Romanoff\": \"Black Widow\".upper(),\n",
    "                  \"Tony Stark\": \"Iron Man\".upper(),\n",
    "                  \"Stephen Strange\": \"Doctor Strange\".upper()\n",
    "                  } \n",
    "\n",
    "print(superhero_info[\"Stephen Strange\"])"
   ]
  },
  {
   "cell_type": "markdown",
   "id": "5266fde4",
   "metadata": {},
   "source": [
    "## Exercise 4 :  How many ones"
   ]
  },
  {
   "cell_type": "code",
   "execution_count": 6,
   "id": "48d2d9ea",
   "metadata": {},
   "outputs": [
    {
     "data": {
      "text/plain": [
       "9"
      ]
     },
     "execution_count": 6,
     "metadata": {},
     "output_type": "execute_result"
    }
   ],
   "source": [
    "numbers=[45, 60, 1, 30, 96, 1, 96, 57, 16, 1,\n",
    "        99, 62, 86, 43, 42, 60, 59, 1, 1, 35,\n",
    "        83, 47, 34, 28, 68, 23, 22, 92, 1, 79,\n",
    "        1, 29, 94, 72, 46, 47, 1, 74, 32, 20,\n",
    "        8, 37, 35, 1, 89, 29, 86, 19, 43, 61]  \n",
    "\n",
    "np_numbers = np.array(numbers)\n",
    "\n",
    "(np_numbers == 1).sum()\n",
    "\n",
    "\n",
    "#As output is 9, means that there are nine 1 in this list. \n",
    "#Not sure if this is the ideal method as it doesnt work for counting other numbers outside 1. \n",
    "#Correction: It adds the frequncy of 1 (true), not the value of 1."
   ]
  },
  {
   "cell_type": "code",
   "execution_count": 12,
   "id": "759ed116",
   "metadata": {},
   "outputs": [
    {
     "data": {
      "text/plain": [
       "array([False, False,  True, False, False,  True, False, False, False,\n",
       "        True, False, False, False, False, False, False, False,  True,\n",
       "        True, False, False, False, False, False, False, False, False,\n",
       "       False,  True, False,  True, False, False, False, False, False,\n",
       "        True, False, False, False, False, False, False,  True, False,\n",
       "       False, False, False, False, False])"
      ]
     },
     "execution_count": 12,
     "metadata": {},
     "output_type": "execute_result"
    }
   ],
   "source": [
    "np_numbers == 1"
   ]
  }
 ],
 "metadata": {
  "kernelspec": {
   "display_name": "Python 3 (ipykernel)",
   "language": "python",
   "name": "python3"
  },
  "language_info": {
   "codemirror_mode": {
    "name": "ipython",
    "version": 3
   },
   "file_extension": ".py",
   "mimetype": "text/x-python",
   "name": "python",
   "nbconvert_exporter": "python",
   "pygments_lexer": "ipython3",
   "version": "3.10.8"
  },
  "toc": {
   "base_numbering": 1,
   "nav_menu": {},
   "number_sections": true,
   "sideBar": true,
   "skip_h1_title": false,
   "title_cell": "Table of Contents",
   "title_sidebar": "Contents",
   "toc_cell": false,
   "toc_position": {},
   "toc_section_display": true,
   "toc_window_display": false
  },
  "varInspector": {
   "cols": {
    "lenName": 16,
    "lenType": 16,
    "lenVar": 40
   },
   "kernels_config": {
    "python": {
     "delete_cmd_postfix": "",
     "delete_cmd_prefix": "del ",
     "library": "var_list.py",
     "varRefreshCmd": "print(var_dic_list())"
    },
    "r": {
     "delete_cmd_postfix": ") ",
     "delete_cmd_prefix": "rm(",
     "library": "var_list.r",
     "varRefreshCmd": "cat(var_dic_list()) "
    }
   },
   "types_to_exclude": [
    "module",
    "function",
    "builtin_function_or_method",
    "instance",
    "_Feature"
   ],
   "window_display": false
  },
  "vscode": {
   "interpreter": {
    "hash": "31f2aee4e71d21fbe5cf8b01ff0e069b9275f58929596ceb00d14d90e3e16cd6"
   }
  }
 },
 "nbformat": 4,
 "nbformat_minor": 5
}
