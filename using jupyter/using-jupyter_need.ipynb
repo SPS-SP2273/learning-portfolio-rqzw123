{
 "cells": [
  {
   "cell_type": "markdown",
   "id": "5e71896d",
   "metadata": {},
   "source": [
    "# SP2273 | Learning Portfolio"
   ]
  },
  {
   "cell_type": "markdown",
   "id": "7f06f93f",
   "metadata": {},
   "source": [
    "**It's all about running cells**"
   ]
  },
  {
   "cell_type": "code",
   "execution_count": 1,
   "id": "56587580",
   "metadata": {},
   "outputs": [],
   "source": [
    "# Cell ready to accept Python is called a code cell. \n",
    "# Cell ready for Markdown is called a Markdown cell. \n",
    "# Cmd + Enter to run the cell. "
   ]
  },
  {
   "cell_type": "markdown",
   "id": "35eb5afc",
   "metadata": {},
   "source": [
    "**1.2 A traditional start**"
   ]
  },
  {
   "cell_type": "code",
   "execution_count": 2,
   "id": "6cd3d0cc",
   "metadata": {},
   "outputs": [
    {
     "name": "stdout",
     "output_type": "stream",
     "text": [
      "Hello World!\n"
     ]
    }
   ],
   "source": [
    "print('Hello World!')"
   ]
  },
  {
   "cell_type": "markdown",
   "id": "3a354167",
   "metadata": {},
   "source": [
    "**2 All about Markdown**"
   ]
  },
  {
   "cell_type": "code",
   "execution_count": null,
   "id": "750d2bb7",
   "metadata": {},
   "outputs": [],
   "source": [
    "# Markdown is a minimalist language to format writing. "
   ]
  },
  {
   "cell_type": "markdown",
   "id": "24dcf35d",
   "metadata": {},
   "source": [
    "**2.1 Rendering Markdown Cells**"
   ]
  },
  {
   "cell_type": "markdown",
   "id": "fb883439",
   "metadata": {},
   "source": [
    "The ships hung in the sky in much the same way that bricks don't. "
   ]
  },
  {
   "cell_type": "markdown",
   "id": "f3b9936c",
   "metadata": {},
   "source": [
    "**2.2 Some basic syntax**"
   ]
  },
  {
   "cell_type": "code",
   "execution_count": 6,
   "id": "3f11e14d",
   "metadata": {},
   "outputs": [],
   "source": [
    "# Bold = ** ** or __ __\n",
    "# Italic = * * or _ _ \n",
    "# All bold and italic = *** ***\n",
    "# Subscript = <sub> </sub>\n",
    "# Superscript <aup> </sup>"
   ]
  },
  {
   "cell_type": "markdown",
   "id": "757793b4",
   "metadata": {},
   "source": [
    "The ships *hung in the sky* in much the same way that **bricks don't.** <sup>1</sup><sub>QUOTE</sub>"
   ]
  },
  {
   "cell_type": "markdown",
   "id": "7a4eebe8",
   "metadata": {},
   "source": [
    "**2.3 Headings**"
   ]
  },
  {
   "cell_type": "code",
   "execution_count": 5,
   "id": "04be8806",
   "metadata": {},
   "outputs": [],
   "source": [
    "# The largest heading\n",
    "## The second largest heading\n",
    "### The third-largest heading\n",
    "###### The smallest heading"
   ]
  },
  {
   "cell_type": "markdown",
   "id": "c5d6b5fb",
   "metadata": {},
   "source": [
    "**2.4 Displaying Code**"
   ]
  },
  {
   "cell_type": "code",
   "execution_count": null,
   "id": "66be813c",
   "metadata": {},
   "outputs": [],
   "source": [
    "# Use backticks ` to display code in Markdown. "
   ]
  },
  {
   "cell_type": "markdown",
   "id": "7fa2ea90",
   "metadata": {},
   "source": [
    "```python\n",
    "print('Hello World!')\n",
    "```"
   ]
  },
  {
   "cell_type": "markdown",
   "id": "74704602",
   "metadata": {},
   "source": [
    "**2.5 Links**"
   ]
  },
  {
   "cell_type": "code",
   "execution_count": 9,
   "id": "b248926f",
   "metadata": {},
   "outputs": [],
   "source": [
    "# To create a link, display text in [] followed by link in ()."
   ]
  },
  {
   "cell_type": "markdown",
   "id": "c26cd1ef",
   "metadata": {},
   "source": [
    "[SP2273 Website](https://sps.nus.edu.sg/sp2273)"
   ]
  },
  {
   "cell_type": "markdown",
   "id": "5ee5e8c0",
   "metadata": {},
   "source": [
    "**2.6 Images**"
   ]
  },
  {
   "cell_type": "markdown",
   "id": "7741de7a",
   "metadata": {},
   "source": [
    "![](https://nus.edu.sg/images/default-source/base/logo.png)"
   ]
  },
  {
   "cell_type": "markdown",
   "id": "c2014c46",
   "metadata": {},
   "source": [
    "**2.7 Tables**"
   ]
  },
  {
   "cell_type": "markdown",
   "id": "fba3b8c2",
   "metadata": {},
   "source": [
    "| A  | B  |  C |\n",
    "|:---|:--:|---:|\n",
    "|a1  | b1 | c1 |\n",
    "|a2  | b2 | c2 |\n",
    "|a3  | b3 | c3 |"
   ]
  },
  {
   "cell_type": "markdown",
   "id": "515fc66f",
   "metadata": {},
   "source": [
    "**2.8 Lists**\n"
   ]
  },
  {
   "cell_type": "code",
   "execution_count": null,
   "id": "0866104b",
   "metadata": {},
   "outputs": [],
   "source": [
    "'''\n",
    "1. Master Yoda\n",
    "1. Luke Skywalker\n",
    "1. Anakin Skywalker\n",
    "'''"
   ]
  },
  {
   "cell_type": "markdown",
   "id": "2c2c4d6e",
   "metadata": {},
   "source": [
    "1. Master Yoda\n",
    "1. Luke Skywalker\n",
    "1. Anakin Skywalker"
   ]
  },
  {
   "cell_type": "code",
   "execution_count": null,
   "id": "5e4ce0e0",
   "metadata": {},
   "outputs": [],
   "source": [
    "'''\n",
    "- Master Yoda\n",
    "- Luke Skywalker\n",
    "- Anakin Skywalker\n",
    "'''"
   ]
  },
  {
   "cell_type": "markdown",
   "id": "2f7dc4f9",
   "metadata": {},
   "source": [
    "- Master Yoda\n",
    "- Luke Skywalker\n",
    "- Anakin Skywalker"
   ]
  },
  {
   "cell_type": "code",
   "execution_count": null,
   "id": "4c9c43a1",
   "metadata": {},
   "outputs": [],
   "source": [
    "'''\n",
    "1. Master Yoda\n",
    "    1. Was a Jedi\n",
    "    1. Was a bit green\n",
    "1. Luke Skywalker\n",
    "    1. Was a Jedi\n",
    "    1. Is Anakin's son.\n",
    "1. Anakin Skywalker\n",
    "    1. Was a Jedi then became a baddie\n",
    "    1. Is famous for saying 'Luke, I am your Father'\n",
    "'''"
   ]
  },
  {
   "cell_type": "markdown",
   "id": "9dea6785",
   "metadata": {},
   "source": [
    "1. Master Yoda\n",
    "    1. Was a Jedi\n",
    "    1. Was a bit green\n",
    "1. Luke Skywalker\n",
    "    1. Was a Jedi\n",
    "    1. Is Anakin's son.\n",
    "1. Anakin Skywalker\n",
    "    1. Was a Jedi then became a baddie\n",
    "    1. Is famous for saying 'Luke, I am your Father'"
   ]
  },
  {
   "cell_type": "code",
   "execution_count": null,
   "id": "17fe3643",
   "metadata": {},
   "outputs": [],
   "source": [
    "'''\n",
    "1. Master Yoda\n",
    "    - Was a Jedi\n",
    "    - Was a bit green\n",
    "2. Luke Skywalker\n",
    "    - Was a Jedi\n",
    "    - Is Anakin's son.\n",
    "3. Anakin Skywalker\n",
    "    - Was a Jedi then became a baddie\n",
    "    - Is famous for saying 'Luke, I am your Father'\n",
    "'''"
   ]
  },
  {
   "cell_type": "markdown",
   "id": "660a8dd0",
   "metadata": {},
   "source": [
    "1. Master Yoda\n",
    "    - Was a Jedi\n",
    "    - Was a bit green\n",
    "2. Luke Skywalker\n",
    "    - Was a Jedi\n",
    "    - Is Anakin's son.\n",
    "3. Anakin Skywalker\n",
    "    - Was a Jedi then became a baddie\n",
    "    - Is famous for saying 'Luke, I am your Father'"
   ]
  },
  {
   "cell_type": "markdown",
   "id": "5ef5f986",
   "metadata": {},
   "source": [
    "$$\n",
    "x = \\dfrac{-b \\pm \\sqrt{b^2-4ac}}{2a}\n",
    "$$"
   ]
  },
  {
   "cell_type": "markdown",
   "id": "0c9e4264",
   "metadata": {},
   "source": [
    "**Quadratic Equations**\n",
    "\n",
    "\n",
    "![](https://upload.wikimedia.org/wikipedia/commons/thumb/f/f8/Polynomialdeg2.svg/300px-Polynomialdeg2.svg.png)\n",
    "\n",
    "\n",
    "*(Image from the [Wikipedia page on Quadratic equations](https://en.wikipedia.org/wiki/Quadratic_equation))*\n",
    "\n",
    "**Introduction**\n",
    "\n",
    "The general form of a quadratic equation is:\n",
    "\n",
    "$$ax^2 + bx + c = 0$$\n",
    "\n",
    "**Solutions** Provided $a \\ne 0$, we can use an elementary algebraic method called [completeing the square](https://en.wikipedia.org/wiki/Completing_the_square) to show that a quadratic equation has the following solution:\n",
    "\n",
    "$$x = \\dfrac{-b \\pm \\sqrt{b^2 - 4ac}}{2a}$$\n",
    "\n",
    "\n",
    "\n",
    "**Discriminant** \n",
    "\n",
    "The quantity $\\Delta = b^2 - 4ac$ is called the **discriminant** of the equation and decides the nature of its solutions. The table below shows the various possibilites. \n",
    "\n",
    "| Discriminat                | Roots                                |\n",
    "|:--------------------------:|:------------------------------------:|\n",
    "| $\\Delta = b^2 - 4ac = 0$   | A single solution of $-b/(2a)$       |\n",
    "| $\\Delta = b^2 - 4ac \\gt 0$ | Two distinct solutions               |\n",
    "| $\\Delta = b^2 - 4ac \\lt 0$ | No real solutions; both are complex. |\n"
   ]
  },
  {
   "cell_type": "markdown",
   "id": "8c387738",
   "metadata": {},
   "source": [
    "1. What is a repository?\n",
    "\n",
    "_A repository contains all of my files and its history._\n",
    "\n",
    "2. Git keep tracks of __ in the files in our repository\n",
    "\n",
    "_Changes._ \n",
    "\n",
    "3. What is a commit?\n",
    "\n",
    "_Like a 'submit' or save button that submits changes to my own device._\n",
    "\n",
    "4. What is a push?\n",
    "\n",
    "_Submits the commmits onto the server, where other people can see the changes as well._\n",
    "\n",
    "5. What is the difference between GitHub and Github Desktop?\n",
    "\n",
    "_Github Desktop is an application which makes it more accessible for people to access their repositories._\n",
    "\n",
    "6. Is there an 'opposite' to a push?\n",
    "\n",
    "_There is a pull request._\n"
   ]
  }
 ],
 "metadata": {
  "kernelspec": {
   "display_name": "Python 3 (ipykernel)",
   "language": "python",
   "name": "python3"
  },
  "language_info": {
   "codemirror_mode": {
    "name": "ipython",
    "version": 3
   },
   "file_extension": ".py",
   "mimetype": "text/x-python",
   "name": "python",
   "nbconvert_exporter": "python",
   "pygments_lexer": "ipython3",
   "version": "3.10.8"
  },
  "toc": {
   "base_numbering": 1,
   "nav_menu": {},
   "number_sections": true,
   "sideBar": true,
   "skip_h1_title": false,
   "title_cell": "Table of Contents",
   "title_sidebar": "Contents",
   "toc_cell": false,
   "toc_position": {},
   "toc_section_display": true,
   "toc_window_display": false
  },
  "varInspector": {
   "cols": {
    "lenName": 16,
    "lenType": 16,
    "lenVar": 40
   },
   "kernels_config": {
    "python": {
     "delete_cmd_postfix": "",
     "delete_cmd_prefix": "del ",
     "library": "var_list.py",
     "varRefreshCmd": "print(var_dic_list())"
    },
    "r": {
     "delete_cmd_postfix": ") ",
     "delete_cmd_prefix": "rm(",
     "library": "var_list.r",
     "varRefreshCmd": "cat(var_dic_list()) "
    }
   },
   "types_to_exclude": [
    "module",
    "function",
    "builtin_function_or_method",
    "instance",
    "_Feature"
   ],
   "window_display": false
  }
 },
 "nbformat": 4,
 "nbformat_minor": 5
}
