{
 "cells": [
  {
   "cell_type": "markdown",
   "id": "123456",
   "metadata": {},
   "source": [
    "<div style=\"text-align:left;font-size:2em\"><span style=\"font-weight:bolder;font-size:1.25em\">SP2273 | Learning Portfolio</span><br><br><span style=\"font-weight:bold;color:darkred\">Using Jupyter (Good)</span></div>"
   ]
  },
  {
   "cell_type": "markdown",
   "id": "64f9c5e3",
   "metadata": {},
   "source": [
    "## 1 Some tips and tricks"
   ]
  },
  {
   "cell_type": "markdown",
   "id": "eac6265e",
   "metadata": {},
   "source": [
    "### 1.1 Keyboard Shortcuts"
   ]
  },
  {
   "cell_type": "code",
   "execution_count": 1,
   "id": "8816928d",
   "metadata": {},
   "outputs": [],
   "source": [
    "\n",
    "# Your code here\n"
   ]
  },
  {
   "cell_type": "markdown",
   "id": "a7ac2fed",
   "metadata": {},
   "source": [
    "### 1.2 Shell commands"
   ]
  },
  {
   "cell_type": "code",
   "execution_count": 2,
   "id": "77f1572a",
   "metadata": {},
   "outputs": [
    {
     "name": "stdout",
     "output_type": "stream",
     "text": [
      "/Users/reubenquek/Desktop/learning-portfolio-rqzw123/using jupyter\n",
      "using_jupyter_(good).ipynb using_jupyter_(need).ipynb\n"
     ]
    }
   ],
   "source": [
    "\n",
    "!pwd\n",
    "!ls\n"
   ]
  },
  {
   "cell_type": "markdown",
   "id": "7e002f54",
   "metadata": {},
   "source": [
    "## 2 Jupyter Extensions"
   ]
  },
  {
   "cell_type": "markdown",
   "id": "2c3f76f9",
   "metadata": {},
   "source": [
    "### 2.1 Installing the extensions"
   ]
  },
  {
   "cell_type": "code",
   "execution_count": 3,
   "id": "116050a4",
   "metadata": {},
   "outputs": [
    {
     "name": "stdout",
     "output_type": "stream",
     "text": [
      "Collecting package metadata (current_repodata.json): done\n",
      "Solving environment: done\n",
      "\n",
      "# All requested packages already installed.\n",
      "\n",
      "\n",
      "Note: you may need to restart the kernel to use updated packages.\n"
     ]
    }
   ],
   "source": [
    "\n",
    "conda install -c conda-forge jupyter_contrib_nbextensions\n"
   ]
  },
  {
   "cell_type": "markdown",
   "id": "3ec7c88e",
   "metadata": {},
   "source": [
    "### 2.2 Enabling the extensions"
   ]
  },
  {
   "cell_type": "code",
   "execution_count": 4,
   "id": "947088d9",
   "metadata": {},
   "outputs": [
    {
     "name": "stdout",
     "output_type": "stream",
     "text": [
      "Collecting package metadata (current_repodata.json): done\n",
      "Solving environment: failed with initial frozen solve. Retrying with flexible solve.\n",
      "Collecting package metadata (repodata.json): done\n",
      "Solving environment: failed with initial frozen solve. Retrying with flexible solve.\n",
      "\n",
      "PackagesNotFoundError: The following packages are not available from current channels:\n",
      "\n",
      "  - y\n",
      "\n",
      "Current channels:\n",
      "\n",
      "  - https://repo.anaconda.com/pkgs/main/osx-arm64\n",
      "  - https://repo.anaconda.com/pkgs/main/noarch\n",
      "  - https://repo.anaconda.com/pkgs/r/osx-arm64\n",
      "  - https://repo.anaconda.com/pkgs/r/noarch\n",
      "\n",
      "To search for alternate channels that may provide the conda package you're\n",
      "looking for, navigate to\n",
      "\n",
      "    https://anaconda.org\n",
      "\n",
      "and use the search bar at the top of the page.\n",
      "\n",
      "\n"
     ]
    }
   ],
   "source": [
    "!conda install autopep8 y\n"
   ]
  },
  {
   "cell_type": "markdown",
   "id": "f970b8f1",
   "metadata": {},
   "source": [
    "## 3 Shell Magic"
   ]
  },
  {
   "cell_type": "code",
   "execution_count": 7,
   "id": "313c519e",
   "metadata": {},
   "outputs": [
    {
     "name": "stdout",
     "output_type": "stream",
     "text": [
      "18 ns ± 0.109 ns per loop (mean ± std. dev. of 7 runs, 100,000,000 loops each)\n"
     ]
    }
   ],
   "source": [
    "%%timeit   \n",
    "x=10\n",
    "y=10\n",
    "z=10"
   ]
  },
  {
   "cell_type": "markdown",
   "id": "685e5e5c",
   "metadata": {},
   "source": [
    "## 4 The Kernel"
   ]
  },
  {
   "cell_type": "markdown",
   "id": "74d49763",
   "metadata": {},
   "source": [
    "## Exercise 1 :  A new shortcut"
   ]
  },
  {
   "cell_type": "code",
   "execution_count": 6,
   "id": "79bc34a2",
   "metadata": {},
   "outputs": [],
   "source": [
    "\n",
    "\n",
    "\n",
    "# Your solution here"
   ]
  }
 ],
 "metadata": {
  "kernelspec": {
   "display_name": "Python 3 (ipykernel)",
   "language": "python",
   "name": "python3"
  },
  "language_info": {
   "codemirror_mode": {
    "name": "ipython",
    "version": 3
   },
   "file_extension": ".py",
   "mimetype": "text/x-python",
   "name": "python",
   "nbconvert_exporter": "python",
   "pygments_lexer": "ipython3",
   "version": "3.10.8"
  },
  "toc": {
   "base_numbering": 1,
   "nav_menu": {},
   "number_sections": true,
   "sideBar": true,
   "skip_h1_title": false,
   "title_cell": "Table of Contents",
   "title_sidebar": "Contents",
   "toc_cell": false,
   "toc_position": {},
   "toc_section_display": true,
   "toc_window_display": false
  },
  "varInspector": {
   "cols": {
    "lenName": 16,
    "lenType": 16,
    "lenVar": 40
   },
   "kernels_config": {
    "python": {
     "delete_cmd_postfix": "",
     "delete_cmd_prefix": "del ",
     "library": "var_list.py",
     "varRefreshCmd": "print(var_dic_list())"
    },
    "r": {
     "delete_cmd_postfix": ") ",
     "delete_cmd_prefix": "rm(",
     "library": "var_list.r",
     "varRefreshCmd": "cat(var_dic_list()) "
    }
   },
   "types_to_exclude": [
    "module",
    "function",
    "builtin_function_or_method",
    "instance",
    "_Feature"
   ],
   "window_display": false
  },
  "vscode": {
   "interpreter": {
    "hash": "31f2aee4e71d21fbe5cf8b01ff0e069b9275f58929596ceb00d14d90e3e16cd6"
   }
  }
 },
 "nbformat": 4,
 "nbformat_minor": 5
}
