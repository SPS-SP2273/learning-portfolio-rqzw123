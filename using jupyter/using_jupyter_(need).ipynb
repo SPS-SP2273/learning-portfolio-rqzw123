{
 "cells": [
  {
   "cell_type": "markdown",
   "id": "123456",
   "metadata": {},
   "source": [
    "<div style=\"text-align:left;font-size:2em\"><span style=\"font-weight:bolder;font-size:1.25em\">SP2273 | Learning Portfolio</span><br><br><span style=\"font-weight:bold;color:darkred\">Using Jupyter (Need)</span></div>"
   ]
  },
  {
   "cell_type": "markdown",
   "id": "79a37a82",
   "metadata": {},
   "source": [
    "## 1 Getting started with Jupyter"
   ]
  },
  {
   "cell_type": "markdown",
   "id": "41a719dd",
   "metadata": {},
   "source": [
    "### 1.1 Its all about running cells"
   ]
  },
  {
   "cell_type": "code",
   "execution_count": 3,
   "id": "0843a798",
   "metadata": {},
   "outputs": [
    {
     "name": "stdout",
     "output_type": "stream",
     "text": [
      "6\n"
     ]
    }
   ],
   "source": [
    "a = 4\n",
    "b = 2\n",
    "c = a + b\n",
    "print (c)"
   ]
  },
  {
   "cell_type": "markdown",
   "id": "c371df1c",
   "metadata": {},
   "source": [
    "### 1.2 A traditional start"
   ]
  },
  {
   "cell_type": "code",
   "execution_count": 4,
   "id": "d8184476",
   "metadata": {},
   "outputs": [
    {
     "name": "stdout",
     "output_type": "stream",
     "text": [
      "Hello World\n"
     ]
    }
   ],
   "source": [
    "\n",
    "print (\"Hello World\")\n"
   ]
  },
  {
   "cell_type": "markdown",
   "id": "f91b25f2",
   "metadata": {},
   "source": [
    "## 2 All about Markdown"
   ]
  },
  {
   "cell_type": "markdown",
   "id": "997c9b6d",
   "metadata": {},
   "source": [
    "### 2.1 Rendering Markdown cells"
   ]
  },
  {
   "cell_type": "markdown",
   "id": "10d1bf97",
   "metadata": {},
   "source": [
    "The ships hung in the sky in much the same way that bricks don't. "
   ]
  },
  {
   "cell_type": "markdown",
   "id": "abe180bc",
   "metadata": {},
   "source": [
    "### 2.2 Some basic syntax"
   ]
  },
  {
   "cell_type": "markdown",
   "id": "8b34484c",
   "metadata": {},
   "source": [
    "\n",
    "The ships *hung in the sky* in much the same way that **bricks don't.** <sup>1</sup><sub>QUOTE</sub>\n"
   ]
  },
  {
   "cell_type": "markdown",
   "id": "06901dee",
   "metadata": {},
   "source": [
    "### 2.3 Headings"
   ]
  },
  {
   "cell_type": "markdown",
   "id": "13cf5d98",
   "metadata": {},
   "source": [
    "# The largest heading\n",
    "\n",
    "## The second-largest heading\n",
    "\n",
    "### The third-largest heading\n",
    "\n",
    "###### The smallest heading\n"
   ]
  },
  {
   "cell_type": "markdown",
   "id": "e37fdfda",
   "metadata": {},
   "source": [
    "### 2.4 Displaying Code"
   ]
  },
  {
   "cell_type": "markdown",
   "id": "9dc9dfd9",
   "metadata": {},
   "source": [
    "\n",
    "`print ('Hello World!')`\n",
    "```python\n",
    "print ('Hello World!')\n",
    "```"
   ]
  },
  {
   "cell_type": "markdown",
   "id": "0d6f2e5d",
   "metadata": {},
   "source": [
    "### 2.5 Links"
   ]
  },
  {
   "cell_type": "markdown",
   "id": "5558db9a",
   "metadata": {},
   "source": [
    "[SP2273 Website](https://sps.nus.edu.sg/sp2273)"
   ]
  },
  {
   "cell_type": "markdown",
   "id": "042330a8",
   "metadata": {},
   "source": [
    "### 2.6 Images"
   ]
  },
  {
   "cell_type": "markdown",
   "id": "d1b73534",
   "metadata": {},
   "source": [
    "![](https://nus.edu.sg/images/default-source/base/logo.png)"
   ]
  },
  {
   "cell_type": "markdown",
   "id": "6dd64120",
   "metadata": {},
   "source": [
    "### 2.7 Tables"
   ]
  },
  {
   "cell_type": "markdown",
   "id": "4ab95eec",
   "metadata": {},
   "source": [
    "| A    |  B   |    C |\n",
    "| :--- | :--: | ---: |\n",
    "| a1   |  b1  |   c1 |\n",
    "| a2   |  b2  |   c2 |\n",
    "| a3   |  b3  |   c3 |"
   ]
  },
  {
   "cell_type": "markdown",
   "id": "93a7691f",
   "metadata": {},
   "source": [
    "### 2.8 Lists"
   ]
  },
  {
   "cell_type": "markdown",
   "id": "2997bf98",
   "metadata": {},
   "source": [
    "\n",
    "1. Master Yoda \n",
    "1. Luke Skywalker\n",
    "1. Anakin Skywalker\n",
    "\n",
    "- Master Yoda \n",
    "- Luke Skywalker\n",
    "- Anakin Skywalker\n",
    "\n",
    "1. Master Yoda \n",
    "    1. Was a Jedi\n",
    "    1. Was a bit green\n",
    "1. Luke Skywalker\n",
    "    1. Was a Jedi\n",
    "    1. Is Anakin's son.\n",
    "1. Anakin Skywalker\n",
    "    1. Was a Jedi then became a baddie\n",
    "    1. Is famous for saying 'Luke, I am your father'\n",
    "    \n",
    "1. Master Yoda\n",
    "   - Was a Jedi\n",
    "   - Was a bit green\n",
    "2. Luke Skywalker\n",
    "   - Was a Jedi\n",
    "   - Is Anakin's son.\n",
    "3. Anakin Skywalker\n",
    "   - Was a Jedi then became a baddie\n",
    "   - Is famous for saying 'Luke, I am your father'\n",
    "   "
   ]
  },
  {
   "cell_type": "markdown",
   "id": "19348db3",
   "metadata": {},
   "source": [
    "### 2.9 Equations"
   ]
  },
  {
   "cell_type": "markdown",
   "id": "7002a3ad",
   "metadata": {},
   "source": [
    "$\\sqrt{b^2-4ac}$\n",
    "\n",
    "$$\n",
    "x = \\dfrac{-b \\pm \\sqrt{b^2-4ac}}{2a}\n",
    "$$\n",
    "\n",
    "$$x = \\dfrac{-b \\pm \\sqrt{b^2-4ac}}{2a}$$"
   ]
  },
  {
   "cell_type": "markdown",
   "id": "1081e35f",
   "metadata": {},
   "source": [
    "## Exercise 1 :  Put it in Markdown"
   ]
  },
  {
   "cell_type": "code",
   "execution_count": null,
   "id": "d2d7cdd8",
   "metadata": {},
   "outputs": [],
   "source": [
    "\n",
    "\n",
    "\n",
    "# Your solution here\n",
    "\n",
    "\n"
   ]
  },
  {
   "cell_type": "markdown",
   "id": "484d410f",
   "metadata": {},
   "source": [
    "## Exercise 2 :  In your own words"
   ]
  },
  {
   "cell_type": "code",
   "execution_count": null,
   "id": "8ebc55c8",
   "metadata": {},
   "outputs": [],
   "source": [
    "\n",
    "\n",
    "\n",
    "# Your solution here\n",
    "\n",
    "\n"
   ]
  }
 ],
 "metadata": {
  "kernelspec": {
   "display_name": "Python 3 (ipykernel)",
   "language": "python",
   "name": "python3"
  },
  "language_info": {
   "codemirror_mode": {
    "name": "ipython",
    "version": 3
   },
   "file_extension": ".py",
   "mimetype": "text/x-python",
   "name": "python",
   "nbconvert_exporter": "python",
   "pygments_lexer": "ipython3",
   "version": "3.10.8"
  },
  "toc": {
   "base_numbering": 1,
   "nav_menu": {},
   "number_sections": true,
   "sideBar": true,
   "skip_h1_title": false,
   "title_cell": "Table of Contents",
   "title_sidebar": "Contents",
   "toc_cell": false,
   "toc_position": {},
   "toc_section_display": true,
   "toc_window_display": false
  },
  "vscode": {
   "interpreter": {
    "hash": "31f2aee4e71d21fbe5cf8b01ff0e069b9275f58929596ceb00d14d90e3e16cd6"
   }
  }
 },
 "nbformat": 4,
 "nbformat_minor": 5
}
