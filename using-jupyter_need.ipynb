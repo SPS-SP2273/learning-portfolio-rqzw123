{
 "cells": [
  {
   "cell_type": "markdown",
   "id": "0c9e4264",
   "metadata": {},
   "source": [
    "**Quadratic Equations**\n",
    "\n",
    "\n",
    "![](https://upload.wikimedia.org/wikipedia/commons/thumb/f/f8/Polynomialdeg2.svg/300px-Polynomialdeg2.svg.png)\n",
    "\n",
    "\n",
    "_(Image from the [Wikipedia page on Quadratic equations](https://en.wikipedia.org/wiki/Quadratic_equation))_\n",
    "\n",
    "**Introduction**\n",
    "\n",
    "The general form of a quadratic equation is:\n",
    "\n",
    "$$ax^2 + bx + c = 0$$\n",
    "\n",
    "**Solutions** Provided $a \\ne 0$, we can use an elementary algebraic method called [completeing the square](https://en.wikipedia.org/wiki/Completing_the_square) to show that a quadratic equation has the following solution:\n",
    "\n",
    "$$x = \\dfrac{-b \\pm \\sqrt{b^2 - 4ac}}{2a}$$\n",
    "\n",
    "\n",
    "\n",
    "**Discriminant** \n",
    "\n",
    "The quantity $\\Delta = b^2 - 4ac$ is called the **discriminant** of the equation and decides the nature of its solutions. The table below shows the various possibilites. \n",
    "\n",
    "| Discriminat                | Roots                                |\n",
    "|:--------------------------:|:------------------------------------:|\n",
    "| $\\Delta = b^2 - 4ac = 0$   | A single solution of $-b/(2a)$       |\n",
    "| $\\Delta = b^2 - 4ac \\gt 0$ | Two distinct solutions               |\n",
    "| $\\Delta = b^2 - 4ac \\lt 0$ | No real solutions; both are complex. |\n"
   ]
  },
  {
   "cell_type": "markdown",
   "id": "8c387738",
   "metadata": {},
   "source": [
    "1. What is a repository?\n",
    "\n",
    "_A repository contains all of my files and its history._\n",
    "\n",
    "2. Git keep tracks of __ in the files in our repository\n",
    "\n",
    "_Changes._ \n",
    "\n",
    "3. What is a commit?\n",
    "\n",
    "_Like a 'submit' or save button that submits changes to my own device._\n",
    "\n",
    "4. What is a push?\n",
    "\n",
    "_Submits the commmits onto the server, where other people can see the changes as well._\n",
    "\n",
    "5. What is the difference between GitHub and Github Desktop?\n",
    "\n",
    "_Github Desktop is an application which makes it more accessible for people to access their repositories._\n",
    "\n",
    "6. Is there an 'opposite' to a push?\n",
    "\n",
    "_There is a pull request._\n"
   ]
  },
  {
   "cell_type": "markdown",
   "id": "e82cc225",
   "metadata": {},
   "source": [
    "250123 1519: Just testing if there's any updates after updating beecause somehow I can't find new file (mentors can just ignore if you see this)"
   ]
  }
 ],
 "metadata": {
  "kernelspec": {
   "display_name": "Python 3 (ipykernel)",
   "language": "python",
   "name": "python3"
  },
  "language_info": {
   "codemirror_mode": {
    "name": "ipython",
    "version": 3
   },
   "file_extension": ".py",
   "mimetype": "text/x-python",
   "name": "python",
   "nbconvert_exporter": "python",
   "pygments_lexer": "ipython3",
   "version": "3.10.8"
  },
  "toc": {
   "base_numbering": 1,
   "nav_menu": {},
   "number_sections": true,
   "sideBar": true,
   "skip_h1_title": false,
   "title_cell": "Table of Contents",
   "title_sidebar": "Contents",
   "toc_cell": false,
   "toc_position": {},
   "toc_section_display": true,
   "toc_window_display": false
  },
  "varInspector": {
   "cols": {
    "lenName": 16,
    "lenType": 16,
    "lenVar": 40
   },
   "kernels_config": {
    "python": {
     "delete_cmd_postfix": "",
     "delete_cmd_prefix": "del ",
     "library": "var_list.py",
     "varRefreshCmd": "print(var_dic_list())"
    },
    "r": {
     "delete_cmd_postfix": ") ",
     "delete_cmd_prefix": "rm(",
     "library": "var_list.r",
     "varRefreshCmd": "cat(var_dic_list()) "
    }
   },
   "types_to_exclude": [
    "module",
    "function",
    "builtin_function_or_method",
    "instance",
    "_Feature"
   ],
   "window_display": false
  }
 },
 "nbformat": 4,
 "nbformat_minor": 5
}
